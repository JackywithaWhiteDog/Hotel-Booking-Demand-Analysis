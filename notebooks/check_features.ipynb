{
 "cells": [
  {
   "cell_type": "code",
   "execution_count": null,
   "metadata": {},
   "outputs": [],
   "source": [
    "from HTML import config as Config\n",
    "import pandas as pd"
   ]
  },
  {
   "cell_type": "code",
   "execution_count": null,
   "metadata": {},
   "outputs": [],
   "source": [
    "x_train = pd.read_csv(Config.train_path)\n",
    "x_train.head()"
   ]
  },
  {
   "cell_type": "markdown",
   "metadata": {},
   "source": [
    "## Column Names"
   ]
  },
  {
   "cell_type": "code",
   "execution_count": null,
   "metadata": {},
   "outputs": [],
   "source": [
    "x_train.columns"
   ]
  },
  {
   "cell_type": "markdown",
   "metadata": {},
   "source": [
    "## Data types of each feature"
   ]
  },
  {
   "cell_type": "code",
   "execution_count": null,
   "metadata": {},
   "outputs": [],
   "source": [
    "x_train.dtypes"
   ]
  },
  {
   "cell_type": "code",
   "execution_count": null,
   "metadata": {},
   "outputs": [],
   "source": [
    "c='arrival_date_day_of_month'\n",
    "x_train[c].value_counts(dropna=False)"
   ]
  },
  {
   "cell_type": "code",
   "execution_count": null,
   "metadata": {},
   "outputs": [],
   "source": [
    "x_train[['adr', c]].groupby(c).mean().hist()\n",
    "plt.show()\n",
    "x_train[['is_canceled', c]].groupby(c).mean().hist()\n",
    "plt.show()"
   ]
  },
  {
   "cell_type": "code",
   "execution_count": null,
   "metadata": {},
   "outputs": [],
   "source": [
    "import matplotlib.pyplot as plt\n",
    "%matplotlib inline\n",
    "plt.scatter(x_train[x_train['adr']< 5000]['agent'], x_train[x_train['adr']< 5000]['adr'], alpha=.3)"
   ]
  },
  {
   "cell_type": "markdown",
   "metadata": {},
   "source": [
    "## Raw Features\n",
    "\n",
    "### Nominal\n",
    "\n",
    "class A, class B, class C...\n",
    "\n",
    "- hotel: Resort Hotel, City Hotel\n",
    "- is_canceled: 0, 1\n",
    "- arrival_date_month\n",
    "- arrival_date_week_number\n",
    "- arrival_date_day_of_month\n",
    "- country: PRT, GBR... (unique: 178)\n",
    "- market_segment: Online TA, Offline TA/TO... (unique: 8)\n",
    "- distribution_channel: TA/TO, Direct (unique 5)\n",
    "- is_repeated_guest: 0, 1\n",
    "- reserved_room_type: A, D... (unique: 10)\n",
    "- assigned_room_type: A, D... (unique: 12)\n",
    "- agent: ID of the travel agency that made the booking (unique: 334)\n",
    "- company: ID of the company/entity that made the booking or responsible for paying the booking (unique: 353)\n",
    "- customer_type: Contract, Group, Transient, Transient-party\n",
    "- reservation_status: Canceled, Check-Out, No-Show\n",
    "\n",
    "### Ordinal\n",
    "\n",
    "Good, Bad...\n",
    "\n",
    "- meal: SC (no meal), BB (breakfast), HB (breakfast + lunch or dinner), FB (breakfast + lunch + dinner)...\n",
    "- deposit_type: No Deposit, Refundable, Non Refund\n",
    "\n",
    "### Interval\n",
    "\n",
    "year, ... (difference is meaningful)\n",
    "\n",
    "- arrival_date_year\n",
    "\n",
    "### Ratio\n",
    "\n",
    "price, ... (difference and ratio is meaningful)\n",
    "\n",
    "- lead_time: Number of days that elapsed between the entering date of the booking into the PMS and the arrival date\n",
    "- stays_in_weekend_nights\n",
    "- stays_in_week_nights\n",
    "- adults: Number of adults\n",
    "- children: Number of children\n",
    "- babies: Number of babies\n",
    "- previous_cancellations: Number of previous bookings that were cancelled by the customer prior to the current booking\n",
    "- previous_bookings_not_canceled: Number of previous bookings not cancelled by the customer prior to the current booking\n",
    "- booking_changes: Number of changes/amendments made to the booking from the moment the booking was entered on the PMS until the moment of check-in or cancellation\n",
    "- days_in_waiting_list: Number of days the booking was in the waiting list before it was confirmed to the customer\n",
    "- adr: Average Daily Rate as defined by dividing the sum of all lodging transactions by the total number of staying nights\n",
    "- required_car_parking_spaces: Number of car parking spaces required by the customer\n",
    "- total_of_special_requests: Number of special requests made by the customer (e.g. twin bed or high floor)\n",
    "\n",
    "### Meaningless\n",
    "\n",
    "- reservation_status_date: Date at which the last status was set. This variable can be used in conjunction with the ReservationStatus to understand when was the booking canceled or when did the customer checked-out of the hotel"
   ]
  },
  {
   "cell_type": "markdown",
   "metadata": {},
   "source": [
    "## Discussion\n",
    "\n",
    "- break down \"market_segment\" into \"online\", \"offline\", \"TA\", \"TO\"..."
   ]
  },
  {
   "cell_type": "markdown",
   "metadata": {},
   "source": [
    "## Feature that only training set has\n",
    "\n",
    "'adr',\n",
    " 'is_canceled',\n",
    " 'reservation_status',\n",
    " 'reservation_status_date'"
   ]
  },
  {
   "cell_type": "code",
   "execution_count": null,
   "metadata": {},
   "outputs": [],
   "source": []
  }
 ],
 "metadata": {
  "kernelspec": {
   "display_name": "Python 3",
   "language": "python",
   "name": "python3"
  },
  "language_info": {
   "codemirror_mode": {
    "name": "ipython",
    "version": 3
   },
   "file_extension": ".py",
   "mimetype": "text/x-python",
   "name": "python",
   "nbconvert_exporter": "python",
   "pygments_lexer": "ipython3",
   "version": "3.7.6"
  }
 },
 "nbformat": 4,
 "nbformat_minor": 4
}
