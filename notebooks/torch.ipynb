{
 "cells": [
  {
   "cell_type": "code",
   "execution_count": null,
   "metadata": {},
   "outputs": [],
   "source": [
    "import torch\n",
    "from torch import nn"
   ]
  },
  {
   "cell_type": "code",
   "execution_count": null,
   "metadata": {},
   "outputs": [],
   "source": [
    "class Net(nn.Module):\n",
    "    def __init__(self, n_features, dropout=.5):\n",
    "        super(Net, self).__init__()\n",
    "        self.n_features = n_features\n",
    "        self.regressor = nn.Sequential(\n",
    "            nn.Linear(n_features, 1024),\n",
    "            nn.LeakyReLU(),\n",
    "            nn.Dropout(dropout),\n",
    "            nn.Linear(1024, 1024),\n",
    "            nn.LeakyReLU(),\n",
    "            nn.Dropout(dropout),\n",
    "            nn.Linear(1024, 1024),\n",
    "            nn.LeakyReLU(),\n",
    "            nn.Dropout(dropout),\n",
    "            nn.Linear(1024, 1024),\n",
    "            nn.LeakyReLU(),\n",
    "            nn.Dropout(dropout),\n",
    "            nn.Linear(1024, 512),\n",
    "            nn.LeakyReLU(),\n",
    "            nn.Dropout(dropout),\n",
    "            nn.Linear(512, 512),\n",
    "            nn.LeakyReLU(),\n",
    "            nn.Dropout(dropout),\n",
    "            nn.Linear(512, 256),\n",
    "            nn.LeakyReLU(),\n",
    "            nn.Dropout(dropout),\n",
    "            nn.Linear(256, 64),\n",
    "            nn.LeakyReLU(),\n",
    "            nn.Linear(64, 1),\n",
    "        )\n",
    "    def forward(self, inputs):\n",
    "        return self.regressor(inputs)"
   ]
  },
  {
   "cell_type": "code",
   "execution_count": null,
   "metadata": {},
   "outputs": [],
   "source": [
    "from torch.utils import data\n",
    "\n",
    "class Dataset(data.Dataset):\n",
    "    def __init__(self, x, y=None):\n",
    "        self.x = x\n",
    "        self.y = y\n",
    "    def __getitem__(self, idx):\n",
    "        if self.y is None: return self.x[idx]\n",
    "        return self.x[idx], self.y[idx]\n",
    "    def __len__(self):\n",
    "        return len(self.x)"
   ]
  },
  {
   "cell_type": "code",
   "execution_count": null,
   "metadata": {},
   "outputs": [],
   "source": [
    "import torch.optim as optim\n",
    "import torch.nn.functional as F\n",
    "\n",
    "def training(model, train, valid, n_epoch, lr, device, model_dir, weight_decay=0):\n",
    "    loss_train_history, loss_valid_history = [], []\n",
    "    total = sum(p.numel() for p in model.parameters())\n",
    "    trainable = sum(p.numel() for p in model.parameters() if p.requires_grad)\n",
    "    print('\\nstart training, parameter total:{}, trainable:{}\\n'.format(total, trainable))\n",
    "    model.train() # 將 model 的模式設為 train，這樣 optimizer 就可以更新 model 的參數\n",
    "    criterion = nn.MSELoss() # 定義損失函數，這裡我們使用 mse loss\n",
    "    t_batch = len(train) \n",
    "    v_batch = len(valid) \n",
    "    optimizer = optim.Adam(model.parameters(), lr=lr, weight_decay=weight_decay, amsgrad=True) # 將模型的參數給 optimizer，並給予適當的 learning rate\n",
    "#     optimizer = optim.SGD(model.parameters(), lr=lr, momentum=.9, weight_decay=.0001)\n",
    "    best_loss = 0\n",
    "    for epoch in range(n_epoch):\n",
    "        total_loss = 0\n",
    "        # 這段做 training\n",
    "        for i, (x, y) in enumerate(train):\n",
    "            x = x.to(device, dtype=torch.float) # device 為 \"cuda\"，將 x 轉成 torch.cuda.LongTensor\n",
    "            y = y.to(device, dtype=torch.float) # device為 \"cuda\"，將 y 轉成 torch.cuda.LongTensor\n",
    "            optimizer.zero_grad() # 由於 loss.backward() 的 gradient 會累加，所以每次餵完一個 batch 後需要歸零\n",
    "            outputs = model(x) # 將 x 餵給模型\n",
    "            loss = criterion(outputs, y) # 計算此時模型的 training loss\n",
    "            current_loss = loss.item()\n",
    "            loss.backward() # 算 loss 的 gradient\n",
    "            optimizer.step() # 更新訓練模型的參數\n",
    "            total_loss += current_loss\n",
    "            print('[ Epoch{}: {}/{} ] loss:{:.3f} '.format(\n",
    "            \tepoch+1, i+1, t_batch, current_loss), end='\\r')\n",
    "        loss_train_history.append(total_loss/t_batch)\n",
    "        print('\\nTrain | Loss:{:.5f}'.format(total_loss/t_batch))\n",
    "\n",
    "        # 這段做 validation\n",
    "        model.eval() # 將 model 的模式設為 eval，這樣 model 的參數就會固定住\n",
    "        with torch.no_grad():\n",
    "            total_loss = 0\n",
    "            for i, (x, y) in enumerate(valid):\n",
    "                x = x.to(device, dtype=torch.float) # device 為 \"cuda\"，將 x 轉成 torch.cuda.LongTensor\n",
    "                y = y.to(device, dtype=torch.float) # device為 \"cuda\"，將 y 轉成 torch.cuda.LongTensor\n",
    "                optimizer.zero_grad() # 由於 loss.backward() 的 gradient 會累加，所以每次餵完一個 batch 後需要歸零\n",
    "                outputs = model(x) # 將 x 餵給模型\n",
    "                loss = criterion(outputs, y) # 計算此時模型的 training loss\n",
    "                total_loss += loss.item()\n",
    "\n",
    "            loss_valid_history.append(total_loss/v_batch)\n",
    "            print(\"Valid | Loss:{:.5f} \".format(total_loss/v_batch))\n",
    "            if epoch == 0 or total_loss < best_loss:\n",
    "                # 如果 validation 的結果優於之前所有的結果，就把當下的模型存下來以備之後做預測時使用\n",
    "                best_loss = total_loss\n",
    "                torch.save(model, \"{}/ckpt.model\".format(model_dir))\n",
    "                print('saving model with loss {:.3f}'.format(total_loss/v_batch))\n",
    "        print('-----------------------------------------------')\n",
    "        model.train() # 將 model 的模式設為 train，這樣 optimizer 就可以更新 model 的參數（因為剛剛轉成 eval 模式）\n",
    "    return loss_train_history, loss_valid_history"
   ]
  },
  {
   "cell_type": "code",
   "execution_count": null,
   "metadata": {},
   "outputs": [],
   "source": [
    "from HTML import config as Config\n",
    "from HTML.dataset import *\n",
    "from HTML.config import ratio, nominal, ordinal, meaningless\n",
    "from HTML.preprocessing import preprocessing\n",
    "import pandas as pd\n",
    "import numpy as np\n",
    "import matplotlib.pyplot as plt\n",
    "%matplotlib inline"
   ]
  },
  {
   "cell_type": "code",
   "execution_count": null,
   "metadata": {},
   "outputs": [],
   "source": [
    "df_train = pd.read_csv(Config.train_path)\n",
    "df_train.head()"
   ]
  },
  {
   "cell_type": "code",
   "execution_count": null,
   "metadata": {},
   "outputs": [],
   "source": [
    "df_train.shape"
   ]
  },
  {
   "cell_type": "code",
   "execution_count": null,
   "metadata": {},
   "outputs": [],
   "source": [
    "df_train = preprocessing(df_train)"
   ]
  },
  {
   "cell_type": "code",
   "execution_count": null,
   "metadata": {},
   "outputs": [],
   "source": [
    "df_train.shape"
   ]
  },
  {
   "cell_type": "code",
   "execution_count": null,
   "metadata": {},
   "outputs": [],
   "source": [
    "y_adr = df_train[df_train['adr'] < 5000]['adr'].to_numpy()"
   ]
  },
  {
   "cell_type": "code",
   "execution_count": null,
   "metadata": {},
   "outputs": [],
   "source": [
    "from sklearn.preprocessing import OneHotEncoder"
   ]
  },
  {
   "cell_type": "code",
   "execution_count": null,
   "metadata": {},
   "outputs": [],
   "source": [
    "enc = OneHotEncoder(handle_unknown='ignore', sparse=False)"
   ]
  },
  {
   "cell_type": "code",
   "execution_count": null,
   "metadata": {},
   "outputs": [],
   "source": [
    "categories = df_train[sorted(list(set(nominal+ordinal) - {'company', 'adr', 'reservation_status', 'reservation_status_date', 'is_canceled', 'ID', 'index'}))].astype(str).to_numpy()\n",
    "cat = enc.fit_transform(categories)"
   ]
  },
  {
   "cell_type": "code",
   "execution_count": null,
   "metadata": {},
   "outputs": [],
   "source": [
    "cat.shape"
   ]
  },
  {
   "cell_type": "code",
   "execution_count": null,
   "metadata": {},
   "outputs": [],
   "source": [
    "num = df_train[sorted(list(set(df_train.columns) - set(nominal+ordinal) - {'company','adr', 'reservation_status', 'reservation_status_date', 'is_canceled', 'ID', 'index'}))].to_numpy()"
   ]
  },
  {
   "cell_type": "code",
   "execution_count": null,
   "metadata": {},
   "outputs": [],
   "source": [
    "num.shape"
   ]
  },
  {
   "cell_type": "code",
   "execution_count": null,
   "metadata": {},
   "outputs": [],
   "source": [
    "tmp = np.concatenate((cat, num), axis=1)\n",
    "x_adr = tmp[df_train['adr'] < 5000,:].copy()"
   ]
  },
  {
   "cell_type": "code",
   "execution_count": null,
   "metadata": {},
   "outputs": [],
   "source": [
    "print('adr:', x_adr.shape, y_adr.shape)"
   ]
  },
  {
   "cell_type": "code",
   "execution_count": null,
   "metadata": {},
   "outputs": [],
   "source": [
    "from sklearn.model_selection import train_test_split\n",
    "\n",
    "x_train_adr, x_valid_adr, y_train_adr, y_valid_adr = train_test_split(x_adr, y_adr, test_size=.2, random_state=1126)"
   ]
  },
  {
   "cell_type": "code",
   "execution_count": null,
   "metadata": {},
   "outputs": [],
   "source": [
    "# from sklearn.preprocessing import Normalizer\n",
    "\n",
    "# transformer = Normalizer().fit(x_train_adr)\n",
    "# x_train_adr = transformer.transform(x_train_adr)\n",
    "# x_valid_adr = transformer.transform(x_valid_adr)"
   ]
  },
  {
   "cell_type": "code",
   "execution_count": null,
   "metadata": {},
   "outputs": [],
   "source": [
    "print('train:', x_train_adr.shape, y_train_adr.shape)\n",
    "print('valid:', x_valid_adr.shape, y_valid_adr.shape)"
   ]
  },
  {
   "cell_type": "code",
   "execution_count": null,
   "metadata": {},
   "outputs": [],
   "source": [
    "device = torch.device(\"cuda\" if torch.cuda.is_available() else \"cpu\")"
   ]
  },
  {
   "cell_type": "code",
   "execution_count": null,
   "metadata": {},
   "outputs": [],
   "source": [
    "device"
   ]
  },
  {
   "cell_type": "code",
   "execution_count": null,
   "metadata": {},
   "outputs": [],
   "source": [
    "x_train = torch.LongTensor(x_train_adr)\n",
    "y_train = torch.LongTensor(y_train_adr).view((-1,1))\n",
    "x_valid = torch.LongTensor(x_valid_adr)\n",
    "y_valid = torch.LongTensor(y_valid_adr).view((-1,1))"
   ]
  },
  {
   "cell_type": "code",
   "execution_count": null,
   "metadata": {},
   "outputs": [],
   "source": [
    "print('train:', x_train.shape, y_train.shape)\n",
    "print('valid:', x_valid.shape, y_valid.shape)"
   ]
  },
  {
   "cell_type": "code",
   "execution_count": null,
   "metadata": {},
   "outputs": [],
   "source": [
    "train_dataset = Dataset(x_train, y_train)\n",
    "valid_dataset = Dataset(x_valid, y_valid)"
   ]
  },
  {
   "cell_type": "code",
   "execution_count": null,
   "metadata": {},
   "outputs": [],
   "source": [
    "batch_size = 64"
   ]
  },
  {
   "cell_type": "code",
   "execution_count": null,
   "metadata": {},
   "outputs": [],
   "source": [
    "train_loader = torch.utils.data.DataLoader(dataset = train_dataset,\n",
    "                                           batch_size = batch_size,\n",
    "                                           shuffle = True,\n",
    "                                           num_workers = 8)\n",
    "valid_loader = torch.utils.data.DataLoader(dataset = valid_dataset,\n",
    "                                           batch_size = batch_size,\n",
    "                                           shuffle = False,\n",
    "                                           num_workers = 8)"
   ]
  },
  {
   "cell_type": "code",
   "execution_count": null,
   "metadata": {},
   "outputs": [],
   "source": [
    "import random\n",
    "\n",
    "seed = 1126\n",
    "random.seed(seed)\n",
    "np.random.seed(seed)\n",
    "torch.manual_seed(seed)\n",
    "torch.cuda.manual_seed_all(seed)\n",
    "torch.backends.cudnn.deterministic = True\n",
    "\n",
    "n_epoch = 5\n",
    "lr = .0001\n",
    "model_dir = '../models'\n",
    "\n",
    "model = Net(n_features=x_train.shape[1], dropout=0)\n",
    "model = model.to(device)\n",
    "loss_train_history, loss_valid_history = training(model, train_loader, valid_loader,\n",
    "                                                  n_epoch, lr, device, model_dir)"
   ]
  },
  {
   "cell_type": "code",
   "execution_count": null,
   "metadata": {},
   "outputs": [],
   "source": [
    "# plt.figure(figsize=(12,8))\n",
    "plt.plot(np.arange(1,n_epoch+1), loss_train_history)\n",
    "plt.plot(np.arange(1,n_epoch+1), loss_valid_history)\n",
    "plt.title('DNN - Loss')\n",
    "plt.xlabel('Iter Time')\n",
    "plt.ylabel('Loss')\n",
    "plt.legend(['train', 'validation'])\n",
    "plt.show()"
   ]
  },
  {
   "cell_type": "markdown",
   "metadata": {},
   "source": [
    "n_epoch = 5\n",
    "\n",
    "lr = .001\n",
    "\n",
    "Train | Loss:779.06220\n",
    "\n",
    "Valid | Loss:669.05400"
   ]
  },
  {
   "cell_type": "code",
   "execution_count": null,
   "metadata": {},
   "outputs": [],
   "source": [
    "import os\n",
    "model_dir = '../models'\n",
    "model = torch.load(os.path.join(model_dir, 'ckpt.model'))"
   ]
  },
  {
   "cell_type": "code",
   "execution_count": null,
   "metadata": {},
   "outputs": [],
   "source": [
    "def testing(model, test_loader, device, test=True):\n",
    "    model.eval()\n",
    "    result = []\n",
    "    with torch.no_grad():\n",
    "        for i, item in enumerate(test_loader):\n",
    "            if test:\n",
    "                x = item\n",
    "            else:\n",
    "                (x, _) = item\n",
    "            x = x.to(device, dtype=torch.float)\n",
    "            result += model(x).float().tolist()\n",
    "    return result"
   ]
  },
  {
   "cell_type": "code",
   "execution_count": null,
   "metadata": {},
   "outputs": [],
   "source": [
    "pred_train = testing(model, train_dataset, device, test=False)\n",
    "pred_train = np.array(pred_train).T"
   ]
  },
  {
   "cell_type": "code",
   "execution_count": null,
   "metadata": {},
   "outputs": [],
   "source": [
    "np.mean(np.abs(pred_train - y_train_adr))"
   ]
  },
  {
   "cell_type": "code",
   "execution_count": null,
   "metadata": {},
   "outputs": [],
   "source": [
    "np.mean((pred_train - y_train_adr) ** 2)"
   ]
  },
  {
   "cell_type": "code",
   "execution_count": null,
   "metadata": {},
   "outputs": [],
   "source": [
    "plt.scatter(pred_train, y_train_adr, alpha=.1)\n",
    "plt.show()"
   ]
  },
  {
   "cell_type": "code",
   "execution_count": null,
   "metadata": {},
   "outputs": [],
   "source": [
    "pred_valid = testing(model, valid_dataset, device, test=False)\n",
    "pred_valid = np.array(pred_valid).T"
   ]
  },
  {
   "cell_type": "code",
   "execution_count": null,
   "metadata": {},
   "outputs": [],
   "source": [
    "np.mean(np.abs(pred_valid - y_valid_adr))"
   ]
  },
  {
   "cell_type": "code",
   "execution_count": null,
   "metadata": {},
   "outputs": [],
   "source": [
    "np.mean((pred_valid - y_valid_adr) ** 2)"
   ]
  },
  {
   "cell_type": "code",
   "execution_count": null,
   "metadata": {},
   "outputs": [],
   "source": [
    "plt.scatter(pred_valid, y_valid_adr, alpha=.1)\n",
    "plt.show()"
   ]
  },
  {
   "cell_type": "code",
   "execution_count": null,
   "metadata": {},
   "outputs": [],
   "source": [
    "df_test = pd.read_csv(Config.test_path)\n",
    "df_test.head()"
   ]
  },
  {
   "cell_type": "code",
   "execution_count": null,
   "metadata": {},
   "outputs": [],
   "source": [
    "df_test.shape"
   ]
  },
  {
   "cell_type": "code",
   "execution_count": null,
   "metadata": {},
   "outputs": [],
   "source": [
    "categories = df_test[sorted(list(set(nominal+ordinal) - {'company', 'adr', 'reservation_status', 'reservation_status_date', 'is_canceled', 'ID', 'index'}))].astype(str).to_numpy()\n",
    "cat = enc.transform(categories)"
   ]
  },
  {
   "cell_type": "code",
   "execution_count": null,
   "metadata": {},
   "outputs": [],
   "source": [
    "cat.shape"
   ]
  },
  {
   "cell_type": "code",
   "execution_count": null,
   "metadata": {},
   "outputs": [],
   "source": [
    "num = df_test[sorted(list(set(df_test.columns) - set(nominal+ordinal) - {'company', 'adr', 'reservation_status', 'reservation_status_date', 'is_canceled', 'ID', 'index'}))].to_numpy()"
   ]
  },
  {
   "cell_type": "code",
   "execution_count": null,
   "metadata": {},
   "outputs": [],
   "source": [
    "num.shape"
   ]
  },
  {
   "cell_type": "code",
   "execution_count": null,
   "metadata": {},
   "outputs": [],
   "source": [
    "tmp = np.concatenate((cat, num), axis=1)\n",
    "x_test = tmp.copy()"
   ]
  },
  {
   "cell_type": "code",
   "execution_count": null,
   "metadata": {},
   "outputs": [],
   "source": [
    "x_test = torch.LongTensor(x_test)"
   ]
  },
  {
   "cell_type": "code",
   "execution_count": null,
   "metadata": {},
   "outputs": [],
   "source": [
    "test_dataset = Dataset(x_test)"
   ]
  },
  {
   "cell_type": "code",
   "execution_count": null,
   "metadata": {},
   "outputs": [],
   "source": [
    "test_loader = torch.utils.data.DataLoader(dataset = test_dataset,\n",
    "                                          batch_size = 128,\n",
    "                                          shuffle = False,\n",
    "                                          num_workers = 8)"
   ]
  },
  {
   "cell_type": "code",
   "execution_count": null,
   "metadata": {},
   "outputs": [],
   "source": [
    "pred = testing(model, test_loader, device)\n",
    "pred = np.array(pred).T"
   ]
  },
  {
   "cell_type": "code",
   "execution_count": null,
   "metadata": {},
   "outputs": [],
   "source": []
  }
 ],
 "metadata": {
  "kernelspec": {
   "display_name": "Python 3",
   "language": "python",
   "name": "python3"
  },
  "language_info": {
   "codemirror_mode": {
    "name": "ipython",
    "version": 3
   },
   "file_extension": ".py",
   "mimetype": "text/x-python",
   "name": "python",
   "nbconvert_exporter": "python",
   "pygments_lexer": "ipython3",
   "version": "3.7.6"
  }
 },
 "nbformat": 4,
 "nbformat_minor": 4
}
