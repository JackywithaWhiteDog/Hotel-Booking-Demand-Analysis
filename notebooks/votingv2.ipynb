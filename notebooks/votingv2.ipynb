{
 "cells": [
  {
   "cell_type": "code",
   "execution_count": null,
   "metadata": {},
   "outputs": [],
   "source": [
    "from HTML import config as Config\n",
    "from HTML.dataset import *\n",
    "from HTML.config import ratio, nominal, ordinal, meaningless\n",
    "# from HTML.preprocessing import preprocessing\n",
    "import pandas as pd\n",
    "import numpy as np\n",
    "import matplotlib.pyplot as plt\n",
    "%matplotlib inline"
   ]
  },
  {
   "cell_type": "code",
   "execution_count": null,
   "metadata": {},
   "outputs": [],
   "source": [
    "df_train = pd.read_csv(Config.train_path)\n",
    "df_train.head()"
   ]
  },
  {
   "cell_type": "code",
   "execution_count": null,
   "metadata": {},
   "outputs": [],
   "source": [
    "df_train.shape"
   ]
  },
  {
   "cell_type": "code",
   "execution_count": null,
   "metadata": {},
   "outputs": [],
   "source": [
    "def preprocessing(df):\n",
    "    result = df.copy()\n",
    "    result = result.drop(columns=['company', 'ID', 'index'], errors='ignore')\n",
    "    result = result.fillna({\n",
    "        'children': 0,\n",
    "        'country': 'None',\n",
    "        'agent': 'None'\n",
    "    })\n",
    "    result['stays_in_nights'] = result['stays_in_weekend_nights'] + result['stays_in_week_nights']\n",
    "    result['same_room_type'] = (df['assigned_room_type'] == df['reserved_room_type']).astype(str)\n",
    "    result['persons'] = result['adults'] + result['children'] + result['babies']\n",
    "    result['previous_booking'] = result['previous_cancellations']+result['previous_bookings_not_canceled']\n",
    "    result['confirmed_lead_time'] = result['lead_time'] - result['days_in_waiting_list']\n",
    "    result['previous_cancellation_rate'] = [pc / pb if pb > 0 else .5 for pc, pb in result[['previous_cancellations', 'previous_booking']].to_numpy()]\n",
    "    categories = sorted(list(set(result.columns) & set(ordinal+nominal+meaningless+['same_room_type'])))\n",
    "    numeral = sorted(list(set(result.columns) - set(categories)))\n",
    "    result[categories] = result[categories].astype(str)\n",
    "    result[numeral] = result[numeral].astype(float)\n",
    "    return result"
   ]
  },
  {
   "cell_type": "code",
   "execution_count": null,
   "metadata": {},
   "outputs": [],
   "source": [
    "df_train = preprocessing(df_train)\n",
    "df_train.head()"
   ]
  },
  {
   "cell_type": "code",
   "execution_count": null,
   "metadata": {},
   "outputs": [],
   "source": [
    "df_train.shape"
   ]
  },
  {
   "cell_type": "code",
   "execution_count": null,
   "metadata": {},
   "outputs": [],
   "source": [
    "y_train_is_canceled = df_train['is_canceled'].to_numpy()\n",
    "y_train_adr = df_train[df_train['adr'] < 5000]['adr'].to_numpy()"
   ]
  },
  {
   "cell_type": "code",
   "execution_count": null,
   "metadata": {},
   "outputs": [],
   "source": [
    "from sklearn.preprocessing import OneHotEncoder"
   ]
  },
  {
   "cell_type": "code",
   "execution_count": null,
   "metadata": {},
   "outputs": [],
   "source": [
    "enc = OneHotEncoder(drop='if_binary', sparse=False)"
   ]
  },
  {
   "cell_type": "code",
   "execution_count": null,
   "metadata": {},
   "outputs": [],
   "source": [
    "not_features = {'arrival_date_year', 'adr', 'reservation_status', 'reservation_status_date', 'is_canceled'}"
   ]
  },
  {
   "cell_type": "code",
   "execution_count": null,
   "metadata": {},
   "outputs": [],
   "source": [
    "categories_train = df_train[sorted(list(set(df_train.columns[df_train.dtypes == object]) - not_features))].astype(str)\n",
    "cat = enc.fit_transform(categories_train.to_numpy())"
   ]
  },
  {
   "cell_type": "code",
   "execution_count": null,
   "metadata": {},
   "outputs": [],
   "source": [
    "categories_train.shape"
   ]
  },
  {
   "cell_type": "code",
   "execution_count": null,
   "metadata": {},
   "outputs": [],
   "source": [
    "cat.shape"
   ]
  },
  {
   "cell_type": "code",
   "execution_count": null,
   "metadata": {},
   "outputs": [],
   "source": [
    "number = df_train[sorted(list(set(df_train.columns[df_train.dtypes == float]) - not_features))]\n",
    "num = number.to_numpy()"
   ]
  },
  {
   "cell_type": "code",
   "execution_count": null,
   "metadata": {},
   "outputs": [],
   "source": [
    "num.shape"
   ]
  },
  {
   "cell_type": "code",
   "execution_count": null,
   "metadata": {},
   "outputs": [],
   "source": [
    "tmp = np.concatenate((cat, num), axis=1)\n",
    "x_train_is_canceled = tmp.copy()\n",
    "x_train_adr = tmp[df_train['adr'] < 5000,:].copy()"
   ]
  },
  {
   "cell_type": "code",
   "execution_count": null,
   "metadata": {},
   "outputs": [],
   "source": [
    "# dummies = pd.get_dummies(\n",
    "#         data=df_train[set(df_train.columns) - {'reservation_status', 'reservation_status_date', 'is_canceled'}],\n",
    "#         columns=set(nominal+ordinal) - {'reservation_status', 'reservation_status_date', 'is_canceled'},\n",
    "#         drop_first=True,\n",
    "#         dummy_na=True)\n",
    "# dummies = dummies[sorted(set(dummies.columns) - {'index', 'ID'} - set(meaningless))]\n",
    "# x_train_res = dummies[sorted(list(set(dummies.columns) - {'adr'}))].to_numpy()\n",
    "# x_train_adr = dummies[dummies['adr'] < 5000][sorted(list(set(dummies.columns) - {'adr'}))].to_numpy()"
   ]
  },
  {
   "cell_type": "code",
   "execution_count": null,
   "metadata": {},
   "outputs": [],
   "source": [
    "print('adr:', x_train_adr.shape, y_train_adr.shape)\n",
    "print('res:', x_train_is_canceled.shape, y_train_is_canceled.shape)"
   ]
  },
  {
   "cell_type": "code",
   "execution_count": null,
   "metadata": {},
   "outputs": [],
   "source": [
    "from sklearn.ensemble import VotingClassifier, VotingRegressor\n",
    "from xgboost import XGBClassifier, XGBRegressor\n",
    "from lightgbm import LGBMClassifier, LGBMRegressor\n",
    "from catboost import CatBoostClassifier, CatBoostRegressor"
   ]
  },
  {
   "cell_type": "code",
   "execution_count": null,
   "metadata": {},
   "outputs": [],
   "source": [
    "params_xgb_r = {\n",
    "    'objective': 'reg:squarederror',\n",
    "    'base_score': 0.5,\n",
    "    'booster': 'gbtree',\n",
    "    'colsample_bylevel': 1,\n",
    "    'colsample_bynode': 1,\n",
    "    'colsample_bytree': 0.3,\n",
    "    'gamma': 10,\n",
    "    'gpu_id': 0,\n",
    "    'importance_type': 'gain',\n",
    "    'interaction_constraints': '',\n",
    "    'learning_rate': 0.3,\n",
    "    'max_delta_step': 0,\n",
    "    'max_depth': 6,\n",
    "    'min_child_weight': 1,\n",
    "    'monotone_constraints': '()',\n",
    "    'n_estimators': 100,\n",
    "    'n_jobs': -1,\n",
    "    'num_parallel_tree': 1,\n",
    "    'random_state': 1126,\n",
    "    'reg_alpha': 0,\n",
    "    'reg_lambda': 1,\n",
    "    'scale_pos_weight': 1,\n",
    "    'subsample': 0.7,\n",
    "    'tree_method': 'gpu_hist',\n",
    "    'validate_parameters': 1,\n",
    "    'verbosity': None,\n",
    "    'predictor': 'gpu_predictor',\n",
    "    'deterministic_histogram': False\n",
    "}\n",
    "regr_xgb = XGBRegressor(**params_xgb_r)"
   ]
  },
  {
   "cell_type": "code",
   "execution_count": null,
   "metadata": {},
   "outputs": [],
   "source": [
    "params_lgbm_r = {\n",
    "    'boosting_type': 'gbdt',\n",
    "    'class_weight': None,\n",
    "    'colsample_bytree': 0.5,\n",
    "    'importance_type': 'split',\n",
    "    'learning_rate': 0.1,\n",
    "    'max_depth': 30,\n",
    "    'min_child_samples': 20,\n",
    "    'min_child_weight': 0.001,\n",
    "    'min_split_gain': 0.0,\n",
    "    'n_estimators': 100,\n",
    "    'n_jobs': -1,\n",
    "    'num_leaves': 64,\n",
    "    'objective': None,\n",
    "    'random_state': 1126,\n",
    "    'reg_alpha': 0.0,\n",
    "    'reg_lambda': 0.0,\n",
    "    'silent': True,\n",
    "    'subsample': 0.5,\n",
    "    'subsample_for_bin': 2000,\n",
    "    'subsample_freq': 0\n",
    "}\n",
    "regr_lgbm = LGBMRegressor(**params_lgbm_r)"
   ]
  },
  {
   "cell_type": "code",
   "execution_count": null,
   "metadata": {},
   "outputs": [],
   "source": [
    "params_cat_r = {\n",
    "    'depth': 8,\n",
    "    'l2_leaf_reg': 1,\n",
    "    'rsm': 1,\n",
    "    'loss_function': 'RMSE',\n",
    "    'border_count': 254,\n",
    "    'subsample': 0.8,\n",
    "    'n_estimators': 100,\n",
    "    'random_state': 1126,\n",
    "    'max_leaves': 31\n",
    "}\n",
    "regr_cat = CatBoostRegressor(**params_cat_r)"
   ]
  },
  {
   "cell_type": "code",
   "execution_count": null,
   "metadata": {},
   "outputs": [],
   "source": [
    "from sklearn.model_selection import train_test_split\n",
    "\n",
    "x_train_adr_t, x_train_adr_v, y_train_adr_t, y_train_adr_v = train_test_split(x_train_adr, y_train_adr, test_size=.2, random_state=1126)"
   ]
  },
  {
   "cell_type": "code",
   "execution_count": null,
   "metadata": {},
   "outputs": [],
   "source": [
    "regr_xgb.fit(\n",
    "    x_train_adr_t, y_train_adr_t,\n",
    "    eval_metric=['rmse', 'mae'],\n",
    "    eval_set=[(x_train_adr_t, y_train_adr_t), (x_train_adr_v, y_train_adr_v)],early_stopping_rounds=1\n",
    ")\n",
    "regr_lgbm.fit(\n",
    "    x_train_adr_t, y_train_adr_t,\n",
    "    eval_metric=['rmse', 'mae'],\n",
    "    eval_set=[(x_train_adr_t, y_train_adr_t), (x_train_adr_v, y_train_adr_v)],early_stopping_rounds=1\n",
    ")\n",
    "regr_cat.fit(\n",
    "    x_train_adr, y_train_adr,\n",
    "    early_stopping_rounds=1\n",
    ")"
   ]
  },
  {
   "cell_type": "code",
   "execution_count": null,
   "metadata": {},
   "outputs": [],
   "source": [
    "params_xgb_c = {\n",
    "    'objective': 'count:poisson',\n",
    "    'use_label_encoder': True,\n",
    "    'base_score': 0.5,\n",
    "    'booster': 'gbtree',\n",
    "    'colsample_bylevel': 1,\n",
    "    'colsample_bynode': 1,\n",
    "    'colsample_bytree': 0.7,\n",
    "    'gamma': 10,\n",
    "    'gpu_id': 0,\n",
    "    'importance_type': 'gain',\n",
    "    'interaction_constraints': '',\n",
    "    'learning_rate': 0.3,\n",
    "    'max_delta_step': 0.699999988,\n",
    "    'max_depth': 10,\n",
    "    'min_child_weight': 1,\n",
    "    'monotone_constraints': '()',\n",
    "    'n_estimators': 100,\n",
    "    'n_jobs': -1,\n",
    "    'num_parallel_tree': 1,\n",
    "    'random_state': 1126,\n",
    "    'reg_alpha': 0,\n",
    "    'reg_lambda': 1,\n",
    "    'scale_pos_weight': None,\n",
    "    'subsample': 0.3,\n",
    "    'tree_method': 'gpu_hist',\n",
    "    'validate_parameters': 1,\n",
    "    'verbosity': None,\n",
    "    'predictor': 'gpu_predictor',\n",
    "    'deterministic_histogram': False\n",
    "}\n",
    "clf_xgb = XGBClassifier(**params_xgb_c)"
   ]
  },
  {
   "cell_type": "code",
   "execution_count": null,
   "metadata": {},
   "outputs": [],
   "source": [
    "params_lgbm_c = {\n",
    "    'boosting_type': 'gbdt',\n",
    "    'class_weight': None,\n",
    "    'colsample_bytree': 1,\n",
    "    'importance_type': 'split',\n",
    "    'learning_rate': 0.1,\n",
    "    'max_depth': 30,\n",
    "    'min_child_samples': 20,\n",
    "    'min_child_weight': 0.001,\n",
    "    'min_split_gain': 0.0,\n",
    "    'n_estimators': 100,\n",
    "    'n_jobs': -1,\n",
    "    'num_leaves': 31,\n",
    "    'objective': None,\n",
    "    'random_state': 1126,\n",
    "    'reg_alpha': 0.0,\n",
    "    'reg_lambda': 0.0,\n",
    "    'silent': True,\n",
    "    'subsample': 1,\n",
    "    'subsample_for_bin': 2000000,\n",
    "    'subsample_freq': 0 \n",
    "}\n",
    "clf_lgbm = LGBMClassifier(**params_lgbm_c)"
   ]
  },
  {
   "cell_type": "code",
   "execution_count": null,
   "metadata": {},
   "outputs": [],
   "source": [
    "params_cat_c = {\n",
    "    'depth': 6,\n",
    "    'l2_leaf_reg': 10,\n",
    "    'rsm': 0.5,\n",
    "    'loss_function': 'Logloss',\n",
    "    'border_count': 64,\n",
    "    'subsample': 0.66,\n",
    "    'n_estimators': 100,\n",
    "    'random_state': 1126,\n",
    "    'max_leaves': 31\n",
    "}\n",
    "clf_cat = CatBoostClassifier(**params_cat_c)"
   ]
  },
  {
   "cell_type": "code",
   "execution_count": null,
   "metadata": {},
   "outputs": [],
   "source": [
    "from sklearn.model_selection import train_test_split\n",
    "\n",
    "x_train_is_canceled_t, x_train_is_canceled_v, y_train_is_canceled_t, y_train_is_canceled_v = train_test_split(x_train_is_canceled, y_train_is_canceled, test_size=.2, random_state=1126)"
   ]
  },
  {
   "cell_type": "code",
   "execution_count": null,
   "metadata": {},
   "outputs": [],
   "source": [
    "clf_xgb.fit(\n",
    "    x_train_is_canceled_t, y_train_is_canceled_t,\n",
    "    eval_metric=['error', 'logloss'],\n",
    "    eval_set=[(x_train_is_canceled_t, y_train_is_canceled_t), (x_train_is_canceled_v, y_train_is_canceled_v)],early_stopping_rounds=1\n",
    ")\n",
    "clf_lgbm.fit(\n",
    "    x_train_is_canceled_t, y_train_is_canceled_t,\n",
    "    eval_metric=['error', 'logloss'],\n",
    "    eval_set=[(x_train_is_canceled_t, y_train_is_canceled_t), (x_train_is_canceled_v, y_train_is_canceled_v)],early_stopping_rounds=10\n",
    ")\n",
    "clf_cat.fit(\n",
    "    x_train_is_canceled, y_train_is_canceled,\n",
    "    early_stopping_rounds=10\n",
    ")"
   ]
  },
  {
   "cell_type": "code",
   "execution_count": null,
   "metadata": {},
   "outputs": [],
   "source": [
    "pred_adr_xgb = regr_xgb.predict(x_train_adr)\n",
    "pred_adr_lgbm = regr_lgbm.predict(x_train_adr)\n",
    "pred_adr_cat = regr_cat.predict(x_train_adr)"
   ]
  },
  {
   "cell_type": "code",
   "execution_count": null,
   "metadata": {},
   "outputs": [],
   "source": [
    "for p, name in zip([pred_adr_xgb, pred_adr_lgbm, pred_adr_cat],['xgb','lgbm','cat']):\n",
    "    print(f'--- {name} ---')\n",
    "    print('MAE:', np.mean(np.abs(p - y_train_adr)))\n",
    "    print('MSE:', np.mean((p - y_train_adr)**2))"
   ]
  },
  {
   "cell_type": "code",
   "execution_count": null,
   "metadata": {},
   "outputs": [],
   "source": [
    "for i in [1,2,3]:\n",
    "    for j in [1,2,3]:\n",
    "        for k in [1,2,3]:\n",
    "            if len({i,j,k}) == 1 and i != 1:\n",
    "                continue\n",
    "            p = i * pred_adr_xgb + j * pred_adr_lgbm + k * pred_adr_cat\n",
    "            p /= (i+j+k)\n",
    "            print(f'[{i}, {j}, {k}]: MAE: {np.mean(np.abs(p - y_train_adr))} / MSE: {np.mean((p - y_train_adr)**2)}')"
   ]
  },
  {
   "cell_type": "code",
   "execution_count": null,
   "metadata": {},
   "outputs": [],
   "source": [
    "pred_adr = (3 * pred_adr_xgb + 3 * pred_adr_lgbm + 1 * pred_adr_cat) / (3+3+1)"
   ]
  },
  {
   "cell_type": "code",
   "execution_count": null,
   "metadata": {},
   "outputs": [],
   "source": [
    "np.mean(np.abs(pred_adr - y_train_adr))"
   ]
  },
  {
   "cell_type": "code",
   "execution_count": null,
   "metadata": {},
   "outputs": [],
   "source": [
    "np.mean((pred_adr - y_train_adr)**2)"
   ]
  },
  {
   "cell_type": "code",
   "execution_count": null,
   "metadata": {},
   "outputs": [],
   "source": [
    "prob_is_canceled_xgb = clf_xgb.predict_proba(x_train_adr)\n",
    "prob_is_canceled_lgbm = clf_lgbm.predict_proba(x_train_adr)\n",
    "prob_is_canceled_cat = clf_cat.predict_proba(x_train_adr)"
   ]
  },
  {
   "cell_type": "code",
   "execution_count": null,
   "metadata": {},
   "outputs": [],
   "source": [
    "p"
   ]
  },
  {
   "cell_type": "code",
   "execution_count": null,
   "metadata": {},
   "outputs": [],
   "source": [
    "y_train_is_canceled[df_train['adr'] < 5000].astype(int)"
   ]
  },
  {
   "cell_type": "code",
   "execution_count": null,
   "metadata": {},
   "outputs": [],
   "source": [
    "y = y_train_is_canceled[df_train['adr'] < 5000].astype(int)\n",
    "for i in [1,2,3]:\n",
    "    for j in [1,2,3]:\n",
    "        for k in [1,2,3]:\n",
    "            if len({i,j,k}) == 1 and i != 1:\n",
    "                continue\n",
    "            p = i * prob_is_canceled_xgb + j * prob_is_canceled_lgbm + k * prob_is_canceled_cat\n",
    "            p /= (i+j+k)\n",
    "            p = np.round(p[:,1])\n",
    "            \n",
    "            print(f'[{i}, {j}, {k}]: Acc: {np.mean(np.abs(p - y))}')"
   ]
  },
  {
   "cell_type": "code",
   "execution_count": null,
   "metadata": {},
   "outputs": [],
   "source": [
    "pred_is_canceled_xgb = clf_xgb.predict(x_train_adr)\n",
    "pred_is_canceled_lgbm = clf_lgbm.predict(x_train_adr)\n",
    "pred_is_canceled_cat = clf_cat.predict(x_train_adr)"
   ]
  },
  {
   "cell_type": "code",
   "execution_count": null,
   "metadata": {},
   "outputs": [],
   "source": [
    "pred_is_canceled_xgb = pred_is_canceled_xgb.astype(int)\n",
    "pred_is_canceled_lgbm = pred_is_canceled_lgbm.astype(int)\n",
    "pred_is_canceled_cat = pred_is_canceled_cat.astype(int)"
   ]
  },
  {
   "cell_type": "code",
   "execution_count": null,
   "metadata": {},
   "outputs": [],
   "source": [
    "y = y_train_is_canceled[df_train['adr'] < 5000].astype(int)\n",
    "for p, name in zip([pred_is_canceled_xgb, pred_is_canceled_lgbm, pred_is_canceled_cat],['xgb','lgbm','cat']):\n",
    "    print(f'--- {name} ---')\n",
    "    print('Acc:', np.mean(np.abs(p - y)))"
   ]
  },
  {
   "cell_type": "code",
   "execution_count": null,
   "metadata": {},
   "outputs": [],
   "source": [
    "y = y_train_is_canceled[df_train['adr'] < 5000].astype(int)\n",
    "for i in [1,2,3]:\n",
    "    for j in [1,2,3]:\n",
    "        for k in [1,2,3]:\n",
    "            if len({i,j,k}) == 1 and i != 1:\n",
    "                continue\n",
    "            if i > (i+j+k) / 2 or j > (i+j+k) / 2 or k > (i+j+k) / 2:\n",
    "                continue\n",
    "            p = i * pred_is_canceled_xgb + j * pred_is_canceled_lgbm + k * pred_is_canceled_cat\n",
    "            p = p >= (i+j+k) / 2\n",
    "            print(f'[{i}, {j}, {k}]: Acc: {np.mean(np.abs(p - y))}')"
   ]
  },
  {
   "cell_type": "code",
   "execution_count": null,
   "metadata": {},
   "outputs": [],
   "source": [
    "tmp = (1 * prob_is_canceled_xgb + 2 * prob_is_canceled_lgbm + 1 * prob_is_canceled_cat) / (1+2+1)\n",
    "tmp = np.round(tmp[:,1]).astype(int)\n",
    "np.unique(tmp)"
   ]
  },
  {
   "cell_type": "code",
   "execution_count": null,
   "metadata": {},
   "outputs": [],
   "source": [
    "tmp"
   ]
  },
  {
   "cell_type": "code",
   "execution_count": null,
   "metadata": {},
   "outputs": [],
   "source": [
    "1 - np.mean(np.abs(tmp - y_train_is_canceled[df_train['adr'] < 5000].astype(int)))"
   ]
  },
  {
   "cell_type": "code",
   "execution_count": null,
   "metadata": {},
   "outputs": [],
   "source": [
    "new_df_train = df_train[df_train['adr'] < 5000].copy().reset_index()\n",
    "new_df_train['revenue'] = new_df_train['adr'] * np.sum(new_df_train[['stays_in_weekend_nights', 'stays_in_week_nights']], axis=1) * (1-new_df_train['is_canceled'].astype(int))\n",
    "new_df_train['pred_adr'] = pred_adr\n",
    "new_df_train['pred_is_canceled'] = tmp\n",
    "new_df_train['pred_revenue'] = new_df_train['pred_adr'] * np.sum(new_df_train[['stays_in_weekend_nights', 'stays_in_week_nights']], axis=1) * (1-new_df_train['pred_is_canceled'])\n",
    "new_df_train[['revenue', 'pred_revenue']].head()"
   ]
  },
  {
   "cell_type": "code",
   "execution_count": null,
   "metadata": {},
   "outputs": [],
   "source": [
    "plt.scatter(new_df_train['pred_revenue'], new_df_train['revenue'], alpha=.3)\n",
    "plt.show()"
   ]
  },
  {
   "cell_type": "code",
   "execution_count": null,
   "metadata": {},
   "outputs": [],
   "source": [
    "np.mean((new_df_train['revenue'] - new_df_train['pred_revenue']).to_numpy() ** 2)"
   ]
  },
  {
   "cell_type": "code",
   "execution_count": null,
   "metadata": {},
   "outputs": [],
   "source": [
    "np.mean(np.abs((new_df_train['revenue'] - new_df_train['pred_revenue']).to_numpy()))"
   ]
  },
  {
   "cell_type": "code",
   "execution_count": null,
   "metadata": {},
   "outputs": [],
   "source": [
    "dates = ['arrival_date_year', 'arrival_date_day_of_month']\n",
    "new_df_train[dates] = new_df_train[dates].astype(int)\n",
    "new_df_train = add_arrival_date(new_df_train)"
   ]
  },
  {
   "cell_type": "code",
   "execution_count": null,
   "metadata": {},
   "outputs": [],
   "source": [
    "new_df_train_sum = new_df_train[['revenue', 'pred_revenue', 'arrival_date']].groupby('arrival_date').sum()"
   ]
  },
  {
   "cell_type": "code",
   "execution_count": null,
   "metadata": {},
   "outputs": [],
   "source": [
    "new_df_train_sum.head()"
   ]
  },
  {
   "cell_type": "code",
   "execution_count": null,
   "metadata": {},
   "outputs": [],
   "source": [
    "plt.scatter(new_df_train_sum['pred_revenue'], new_df_train_sum['revenue'], alpha=.3)\n",
    "plt.show()"
   ]
  },
  {
   "cell_type": "code",
   "execution_count": null,
   "metadata": {},
   "outputs": [],
   "source": [
    "np.mean((new_df_train_sum['revenue'] - new_df_train_sum['pred_revenue']).to_numpy() ** 2)"
   ]
  },
  {
   "cell_type": "code",
   "execution_count": null,
   "metadata": {},
   "outputs": [],
   "source": [
    "np.mean(np.abs((new_df_train_sum['revenue'] - new_df_train_sum['pred_revenue']).to_numpy()))"
   ]
  },
  {
   "cell_type": "code",
   "execution_count": null,
   "metadata": {},
   "outputs": [],
   "source": [
    "y_train = pd.read_csv(Config.train_label_path)\n",
    "train = new_df_train_sum.merge(y_train, left_index=True, right_on='arrival_date')"
   ]
  },
  {
   "cell_type": "code",
   "execution_count": null,
   "metadata": {},
   "outputs": [],
   "source": [
    "plt.scatter(train['pred_revenue'], train['label'], alpha=.5)\n",
    "plt.scatter(train['revenue'], train['label'], alpha=.5)\n",
    "plt.show()"
   ]
  },
  {
   "cell_type": "code",
   "execution_count": null,
   "metadata": {},
   "outputs": [],
   "source": [
    "np.mean(np.abs(np.floor(train['revenue'] / 10000) - train['label']))"
   ]
  },
  {
   "cell_type": "code",
   "execution_count": null,
   "metadata": {},
   "outputs": [],
   "source": [
    "np.mean(np.abs(np.floor(train['pred_revenue'] / 10000) - train['label']))"
   ]
  },
  {
   "cell_type": "code",
   "execution_count": null,
   "metadata": {},
   "outputs": [],
   "source": [
    "np.mean(np.abs(train['pred_revenue'] / 10000 - train['label']))"
   ]
  },
  {
   "cell_type": "code",
   "execution_count": null,
   "metadata": {},
   "outputs": [],
   "source": [
    "plt.plot(train['revenue'])\n",
    "plt.show()\n",
    "plt.plot(train['pred_revenue'])\n",
    "plt.show()"
   ]
  },
  {
   "cell_type": "code",
   "execution_count": null,
   "metadata": {},
   "outputs": [],
   "source": [
    "df_test = pd.read_csv(Config.test_path)\n",
    "df_test.head()"
   ]
  },
  {
   "cell_type": "code",
   "execution_count": null,
   "metadata": {},
   "outputs": [],
   "source": [
    "df_test = preprocessing(df_test)\n",
    "df_test.head()"
   ]
  },
  {
   "cell_type": "code",
   "execution_count": null,
   "metadata": {},
   "outputs": [],
   "source": [
    "num.shape"
   ]
  },
  {
   "cell_type": "code",
   "execution_count": null,
   "metadata": {},
   "outputs": [],
   "source": [
    "df_test.shape"
   ]
  },
  {
   "cell_type": "code",
   "execution_count": null,
   "metadata": {},
   "outputs": [],
   "source": [
    "categories_test = df_test[sorted(list(set(df_test.columns[df_test.dtypes == object]) - not_features))].astype(str)\n",
    "for c in categories_train.columns:\n",
    "    if 'None' in categories_train[c].unique():\n",
    "        unkown = set(categories_test[c].unique()) - set(categories_train[c].unique())\n",
    "        categories_test[c][categories_test[c].isin(unkown)] = 'None'\n",
    "cat = enc.transform(categories_test.to_numpy())"
   ]
  },
  {
   "cell_type": "code",
   "execution_count": null,
   "metadata": {},
   "outputs": [],
   "source": [
    "categories_test.shape"
   ]
  },
  {
   "cell_type": "code",
   "execution_count": null,
   "metadata": {},
   "outputs": [],
   "source": [
    "cat.shape"
   ]
  },
  {
   "cell_type": "code",
   "execution_count": null,
   "metadata": {},
   "outputs": [],
   "source": [
    "number = df_test[sorted(list(set(df_test.columns[df_test.dtypes == float]) - not_features))]\n",
    "num = number.to_numpy()"
   ]
  },
  {
   "cell_type": "code",
   "execution_count": null,
   "metadata": {},
   "outputs": [],
   "source": [
    "num.shape"
   ]
  },
  {
   "cell_type": "code",
   "execution_count": null,
   "metadata": {},
   "outputs": [],
   "source": [
    "tmp = np.concatenate((cat, num), axis=1)\n",
    "x_test = tmp.copy()"
   ]
  },
  {
   "cell_type": "code",
   "execution_count": null,
   "metadata": {},
   "outputs": [],
   "source": [
    "print('test:', x_test.shape)"
   ]
  },
  {
   "cell_type": "code",
   "execution_count": null,
   "metadata": {},
   "outputs": [],
   "source": [
    "pred_adr_xgb = regr_xgb.predict(x_test)\n",
    "pred_adr_lgbm = regr_lgbm.predict(x_test)\n",
    "pred_adr_cat = regr_cat.predict(x_test)"
   ]
  },
  {
   "cell_type": "code",
   "execution_count": null,
   "metadata": {},
   "outputs": [],
   "source": [
    "pred_adr = (3 * pred_adr_xgb + 3 * pred_adr_lgbm + 1 * pred_adr_cat) / (3+3+1)"
   ]
  },
  {
   "cell_type": "code",
   "execution_count": null,
   "metadata": {},
   "outputs": [],
   "source": [
    "prob_is_canceled_xgb = clf_xgb.predict_proba(x_test)\n",
    "prob_is_canceled_lgbm = clf_lgbm.predict_proba(x_test)\n",
    "prob_is_canceled_cat = clf_cat.predict_proba(x_test)"
   ]
  },
  {
   "cell_type": "code",
   "execution_count": null,
   "metadata": {},
   "outputs": [],
   "source": [
    "tmp = (1 * prob_is_canceled_xgb + 2 * prob_is_canceled_lgbm + 1 * prob_is_canceled_cat) / (1+2+1)\n",
    "tmp = np.round(tmp[:,1]).astype(int)\n",
    "np.unique(tmp)"
   ]
  },
  {
   "cell_type": "code",
   "execution_count": null,
   "metadata": {},
   "outputs": [],
   "source": [
    "tmp"
   ]
  },
  {
   "cell_type": "code",
   "execution_count": null,
   "metadata": {},
   "outputs": [],
   "source": [
    "new_df_test = df_test.copy().reset_index()\n",
    "new_df_test['pred_adr'] = pred_adr\n",
    "new_df_test['pred_is_canceled'] = tmp\n",
    "new_df_test['pred_revenue'] = new_df_test['pred_adr'] * np.sum(new_df_test[['stays_in_weekend_nights', 'stays_in_week_nights']], axis=1) * (1-new_df_test['pred_is_canceled'])\n",
    "new_df_test[['pred_adr', 'pred_is_canceled', 'pred_revenue']].head()"
   ]
  },
  {
   "cell_type": "code",
   "execution_count": null,
   "metadata": {},
   "outputs": [],
   "source": [
    "new_df_train['is_canceled'] = new_df_train['is_canceled'].astype(int)\n",
    "new_df_train[['pred_adr', 'adr', 'pred_is_canceled', 'is_canceled', 'pred_revenue', 'revenue']].describe()"
   ]
  },
  {
   "cell_type": "code",
   "execution_count": null,
   "metadata": {},
   "outputs": [],
   "source": [
    "new_df_test[['pred_adr', 'pred_is_canceled', 'pred_revenue']].describe()"
   ]
  },
  {
   "cell_type": "code",
   "execution_count": null,
   "metadata": {},
   "outputs": [],
   "source": [
    "dates = ['arrival_date_year', 'arrival_date_day_of_month']\n",
    "new_df_test[dates] = new_df_test[dates].astype(int)\n",
    "new_df_test = add_arrival_date(new_df_test)"
   ]
  },
  {
   "cell_type": "code",
   "execution_count": null,
   "metadata": {},
   "outputs": [],
   "source": [
    "new_df_test_sum = new_df_test.groupby('arrival_date').sum()"
   ]
  },
  {
   "cell_type": "code",
   "execution_count": null,
   "metadata": {},
   "outputs": [],
   "source": [
    "new_df_test_sum.head()"
   ]
  },
  {
   "cell_type": "code",
   "execution_count": null,
   "metadata": {},
   "outputs": [],
   "source": [
    "new_df_test_sum['pred_revenue'].describe()"
   ]
  },
  {
   "cell_type": "code",
   "execution_count": null,
   "metadata": {},
   "outputs": [],
   "source": [
    "new_df_train_sum['revenue'].hist(density=True, alpha=.4)\n",
    "new_df_train_sum['pred_revenue'].hist(density=True, alpha=.4)\n",
    "new_df_test_sum['pred_revenue'].hist(density=True, alpha=.4)\n",
    "plt.legend(['train (actual)', 'train (pred)', 'test'])\n",
    "plt.show()"
   ]
  },
  {
   "cell_type": "code",
   "execution_count": null,
   "metadata": {},
   "outputs": [],
   "source": [
    "plt.plot(new_df_test_sum['pred_revenue'])\n",
    "plt.show()"
   ]
  },
  {
   "cell_type": "code",
   "execution_count": null,
   "metadata": {},
   "outputs": [],
   "source": [
    "len(new_df_train_sum)"
   ]
  },
  {
   "cell_type": "code",
   "execution_count": null,
   "metadata": {},
   "outputs": [],
   "source": [
    "len(new_df_test_sum)"
   ]
  },
  {
   "cell_type": "code",
   "execution_count": null,
   "metadata": {},
   "outputs": [],
   "source": [
    "plt.plot((new_df_train_sum['revenue'].to_list() + new_df_test_sum['pred_revenue'].to_list())[-200:])\n",
    "plt.show()"
   ]
  },
  {
   "cell_type": "code",
   "execution_count": null,
   "metadata": {},
   "outputs": [],
   "source": [
    "test_index = new_df_test_sum.index"
   ]
  },
  {
   "cell_type": "code",
   "execution_count": null,
   "metadata": {},
   "outputs": [],
   "source": [
    "label = np.floor(new_df_test_sum['pred_revenue'].to_numpy() / 10000)"
   ]
  },
  {
   "cell_type": "code",
   "execution_count": null,
   "metadata": {},
   "outputs": [],
   "source": [
    "label"
   ]
  },
  {
   "cell_type": "code",
   "execution_count": null,
   "metadata": {},
   "outputs": [],
   "source": [
    "from HTML.save import save_prediction\n",
    "save_prediction('../outputs//votingv2.csv', test_index, label)"
   ]
  },
  {
   "cell_type": "code",
   "execution_count": null,
   "metadata": {},
   "outputs": [],
   "source": []
  }
 ],
 "metadata": {
  "kernelspec": {
   "display_name": "Python 3",
   "language": "python",
   "name": "python3"
  },
  "language_info": {
   "codemirror_mode": {
    "name": "ipython",
    "version": 3
   },
   "file_extension": ".py",
   "mimetype": "text/x-python",
   "name": "python",
   "nbconvert_exporter": "python",
   "pygments_lexer": "ipython3",
   "version": "3.7.6"
  }
 },
 "nbformat": 4,
 "nbformat_minor": 4
}
