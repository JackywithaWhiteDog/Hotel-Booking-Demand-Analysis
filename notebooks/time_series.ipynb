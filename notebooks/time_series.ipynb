{
 "cells": [
  {
   "cell_type": "code",
   "execution_count": null,
   "metadata": {},
   "outputs": [],
   "source": [
    "from HTML import config as Config\n",
    "from HTML.dataset import *\n",
    "from HTML.config import ratio, nominal, ordinal, meaningless\n",
    "from HTML.preprocessing import preprocessing\n",
    "import pandas as pd\n",
    "import numpy as np\n",
    "import matplotlib.pyplot as plt\n",
    "%matplotlib inline"
   ]
  },
  {
   "cell_type": "markdown",
   "metadata": {},
   "source": [
    "## Load training set"
   ]
  },
  {
   "cell_type": "code",
   "execution_count": null,
   "metadata": {},
   "outputs": [],
   "source": [
    "df_train = pd.read_csv(Config.train_path)\n",
    "df_train.head()"
   ]
  },
  {
   "cell_type": "code",
   "execution_count": null,
   "metadata": {},
   "outputs": [],
   "source": [
    "df_train = add_arrival_date(df_train)"
   ]
  },
  {
   "cell_type": "code",
   "execution_count": null,
   "metadata": {},
   "outputs": [],
   "source": [
    "df_train.shape"
   ]
  },
  {
   "cell_type": "code",
   "execution_count": null,
   "metadata": {},
   "outputs": [],
   "source": [
    "df_train = preprocessing(df_train)"
   ]
  },
  {
   "cell_type": "code",
   "execution_count": null,
   "metadata": {},
   "outputs": [],
   "source": [
    "df_train.shape"
   ]
  },
  {
   "cell_type": "code",
   "execution_count": null,
   "metadata": {},
   "outputs": [],
   "source": [
    "y_train_is_canceled = df_train['is_canceled'].to_numpy()\n",
    "y_train_adr = df_train[df_train['adr'] < 5000]['adr'].to_numpy()"
   ]
  },
  {
   "cell_type": "code",
   "execution_count": null,
   "metadata": {},
   "outputs": [],
   "source": [
    "from sklearn.preprocessing import OneHotEncoder"
   ]
  },
  {
   "cell_type": "code",
   "execution_count": null,
   "metadata": {},
   "outputs": [],
   "source": [
    "enc = OneHotEncoder(handle_unknown='ignore', sparse=False)"
   ]
  },
  {
   "cell_type": "code",
   "execution_count": null,
   "metadata": {},
   "outputs": [],
   "source": [
    "categories = df_train[sorted(list(set(nominal+ordinal) - {'arrival_date', 'agent', 'company', 'adr', 'reservation_status', 'reservation_status_date', 'is_canceled', 'ID', 'index'}))].astype(str).to_numpy()\n",
    "cat = enc.fit_transform(categories)"
   ]
  },
  {
   "cell_type": "code",
   "execution_count": null,
   "metadata": {},
   "outputs": [],
   "source": [
    "cat.shape"
   ]
  },
  {
   "cell_type": "code",
   "execution_count": null,
   "metadata": {},
   "outputs": [],
   "source": [
    "num = df_train[sorted(list(set(df_train.columns) - set(nominal+ordinal) - {'arrival_date', 'agent', 'company','adr', 'reservation_status', 'reservation_status_date', 'is_canceled', 'ID', 'index'}))].to_numpy()"
   ]
  },
  {
   "cell_type": "code",
   "execution_count": null,
   "metadata": {},
   "outputs": [],
   "source": [
    "tmp = np.concatenate((cat, num), axis=1)\n",
    "x_train_is_canceled = tmp.copy()\n",
    "x_train_adr = tmp[df_train['adr'] < 5000,:].copy()"
   ]
  },
  {
   "cell_type": "code",
   "execution_count": null,
   "metadata": {},
   "outputs": [],
   "source": [
    "print('adr:', x_train_adr.shape, y_train_adr.shape)\n",
    "print('res:', x_train_is_canceled.shape, y_train_is_canceled.shape)"
   ]
  },
  {
   "cell_type": "markdown",
   "metadata": {},
   "source": [
    "## Load testing set"
   ]
  },
  {
   "cell_type": "code",
   "execution_count": null,
   "metadata": {},
   "outputs": [],
   "source": [
    "df_test = pd.read_csv(Config.test_path)\n",
    "df_test.head()"
   ]
  },
  {
   "cell_type": "code",
   "execution_count": null,
   "metadata": {},
   "outputs": [],
   "source": [
    "df_test = add_arrival_date(df_test)"
   ]
  },
  {
   "cell_type": "code",
   "execution_count": null,
   "metadata": {},
   "outputs": [],
   "source": [
    "df_test.shape"
   ]
  },
  {
   "cell_type": "code",
   "execution_count": null,
   "metadata": {},
   "outputs": [],
   "source": [
    "categories = df_test[sorted(list(set(nominal+ordinal) - {'arrival_date', 'agent', 'company', 'adr', 'reservation_status', 'reservation_status_date', 'is_canceled', 'ID', 'index'}))].astype(str).to_numpy()\n",
    "cat = enc.transform(categories)"
   ]
  },
  {
   "cell_type": "code",
   "execution_count": null,
   "metadata": {},
   "outputs": [],
   "source": [
    "cat.shape"
   ]
  },
  {
   "cell_type": "code",
   "execution_count": null,
   "metadata": {},
   "outputs": [],
   "source": [
    "num = df_test[sorted(list(set(df_test.columns) - set(nominal+ordinal) - {'arrival_date', 'agent', 'company', 'adr', 'reservation_status', 'reservation_status_date', 'is_canceled', 'ID', 'index'}))].to_numpy()"
   ]
  },
  {
   "cell_type": "code",
   "execution_count": null,
   "metadata": {},
   "outputs": [],
   "source": [
    "num.shape"
   ]
  },
  {
   "cell_type": "code",
   "execution_count": null,
   "metadata": {},
   "outputs": [],
   "source": [
    "tmp = np.concatenate((cat, num), axis=1)\n",
    "x_test = tmp.copy()"
   ]
  },
  {
   "cell_type": "code",
   "execution_count": null,
   "metadata": {},
   "outputs": [],
   "source": [
    "print('test:', x_test.shape)"
   ]
  },
  {
   "cell_type": "markdown",
   "metadata": {},
   "source": [
    "## Training adr"
   ]
  },
  {
   "cell_type": "code",
   "execution_count": null,
   "metadata": {},
   "outputs": [],
   "source": [
    "from xgboost import XGBClassifier, XGBRegressor"
   ]
  },
  {
   "cell_type": "code",
   "execution_count": null,
   "metadata": {},
   "outputs": [],
   "source": [
    "regr = XGBRegressor(\n",
    "    n_estimators=100,\n",
    "    learning_rate=.3,\n",
    "    max_depth=6,\n",
    "    subsample=1,\n",
    "    n_jobs=16,\n",
    "    colsample_bytree=.7,\n",
    "    random_state=1126,\n",
    "    gamma=10,\n",
    "    tree_method='gpu_hist',\n",
    "    predictor='gpu_predictor',\n",
    "    deterministic_histogram=False\n",
    ")"
   ]
  },
  {
   "cell_type": "code",
   "execution_count": null,
   "metadata": {},
   "outputs": [],
   "source": [
    "regr.get_params()"
   ]
  },
  {
   "cell_type": "code",
   "execution_count": null,
   "metadata": {},
   "outputs": [],
   "source": [
    "train_times = df_train[df_train['adr'] < 5000]['arrival_date'].to_numpy()\n",
    "test_times = df_test['arrival_date'].to_numpy()"
   ]
  },
  {
   "cell_type": "code",
   "execution_count": null,
   "metadata": {},
   "outputs": [],
   "source": [
    "model, x_train, y_train, x_test, train_times, test_times = regr, x_train_adr, y_train_adr, x_test, train_times, test_times\n",
    "window_size=10"
   ]
  },
  {
   "cell_type": "code",
   "execution_count": null,
   "metadata": {},
   "outputs": [],
   "source": [
    "train_dates = np.unique(train_times)\n",
    "test_dates = np.unique(test_times)\n",
    "time_x_train = np.zeros((x_train.shape[0], window_size))\n",
    "pred_y = np.array([np.mean(y_train[train_times == d]) for d in train_dates[:window_size]]).reshape(1,-1)\n",
    "for d in train_dates[window_size:]:\n",
    "    time_x_train[train_times == d] = pred_y.copy()\n",
    "    pred_y = np.roll(pred_y, -1)\n",
    "    pred_y[0, -1] = np.mean(y_train[train_times == d])\n",
    "x_train = np.concatenate((x_train, time_x_train), axis=1)"
   ]
  },
  {
   "cell_type": "code",
   "execution_count": null,
   "metadata": {},
   "outputs": [],
   "source": [
    "result = []\n",
    "selected = [t in train_dates[window_size:2*window_size] for t in train_times]\n",
    "cur_x_train = x_train[selected]\n",
    "cur_y_train = y_train[selected]\n",
    "N = len(train_dates[2*window_size:])\n",
    "amae = 0\n",
    "amse = 0\n",
    "size = 0\n",
    "for i, d in enumerate(train_dates[2*window_size:]):\n",
    "    model.fit(cur_x_train, cur_y_train)\n",
    "    selected = (train_times == d)\n",
    "    cur_x_test = x_train[selected]\n",
    "#     print(cur_x_train.shape, cur_x_test.shape)\n",
    "    cur_y_test = model.predict(cur_x_test)\n",
    "    result.append(cur_y_test)\n",
    "    mae = np.mean(np.abs(cur_y_test - y_train[selected]))\n",
    "    mse = np.mean((cur_y_test - y_train[selected]) ** 2)\n",
    "    cur_size = np.sum(selected)\n",
    "    amae = (amae * size + mae * cur_size) / (size + cur_size)\n",
    "    amse = (amse * size + mse * cur_size) / (size + cur_size)\n",
    "    size += cur_size\n",
    "#     selected = [t in train_dates[window_size+i+1:2*window_size+i+1] for t in train_times]\n",
    "#     cur_x_train = x_train[selected]\n",
    "#     cur_y_train = y_train[selected]\n",
    "    cur_x_train = np.concatenate((cur_x_train, cur_x_test), axis=0)\n",
    "    cur_y_train = np.concatenate((cur_y_train, y_train[selected]), axis=0)\n",
    "#     cur_y_train = np.concatenate((cur_y_train, cur_y_test), axis=0)\n",
    "    print(f'[{i+1}/{N}] Evaluating: MAE: {mae} / Avg. MAE: {amae} / MSE: {mse} / Avg. MSE {amse}', end='\\r')"
   ]
  },
  {
   "cell_type": "code",
   "execution_count": null,
   "metadata": {},
   "outputs": [],
   "source": [
    "pred = []\n",
    "N = len(test_dates)\n",
    "size = 0\n",
    "for i, d in enumerate(test_dates):\n",
    "    print(f'[{i+1}/{N}] Predicting', end='\\r')\n",
    "    model.fit(cur_x_train, cur_y_train)\n",
    "    selected = (test_times == d)\n",
    "    cur_x_test = x_test[selected]\n",
    "    cur_x_test = np.concatenate((cur_x_test, np.repeat(pred_y, cur_x_test.shape[0], axis=0)), axis=1)\n",
    "#     print(cur_x_train.shape, cur_x_test.shape)\n",
    "    cur_y_test = model.predict(cur_x_test)\n",
    "    pred.append(cur_y_test)\n",
    "    cur_size = np.sum(selected)\n",
    "    size += cur_size\n",
    "#     selected = [t in train_dates[window_size+i+1:2*window_size+i+1] for t in train_times]\n",
    "#     cur_x_train = x_train[selected]\n",
    "#     cur_y_train = y_train[selected]\n",
    "    cur_x_train = np.concatenate((cur_x_train, cur_x_test), axis=0)\n",
    "    cur_y_train = np.concatenate((cur_y_train, cur_y_test), axis=0)\n",
    "    pred_y = np.roll(pred_y, -1, axis=1)\n",
    "    pred_y[0,-1] = np.mean(cur_y_test)"
   ]
  },
  {
   "cell_type": "code",
   "execution_count": null,
   "metadata": {},
   "outputs": [],
   "source": [
    "real_y = y_train_adr[[t in train_dates[2*window_size:] for t in train_times]]"
   ]
  },
  {
   "cell_type": "code",
   "execution_count": null,
   "metadata": {},
   "outputs": [],
   "source": [
    "np.mean(np.abs(np.concatenate(result, axis=None) - real_y))"
   ]
  },
  {
   "cell_type": "code",
   "execution_count": null,
   "metadata": {},
   "outputs": [],
   "source": [
    "np.mean((np.concatenate(result, axis=None) - real_y)**2)"
   ]
  },
  {
   "cell_type": "code",
   "execution_count": null,
   "metadata": {},
   "outputs": [],
   "source": [
    "plt.hist((np.concatenate(result, axis=None) - real_y))\n",
    "plt.show()"
   ]
  },
  {
   "cell_type": "code",
   "execution_count": null,
   "metadata": {},
   "outputs": [],
   "source": [
    "np.save('./time_series_adr_train.npy', np.concatenate(result, axis=None))"
   ]
  },
  {
   "cell_type": "code",
   "execution_count": null,
   "metadata": {},
   "outputs": [],
   "source": [
    "np.save('./time_series_adr_test.npy', np.concatenate(pred, axis=None))"
   ]
  },
  {
   "cell_type": "code",
   "execution_count": null,
   "metadata": {},
   "outputs": [],
   "source": []
  }
 ],
 "metadata": {
  "kernelspec": {
   "display_name": "Python 3",
   "language": "python",
   "name": "python3"
  },
  "language_info": {
   "codemirror_mode": {
    "name": "ipython",
    "version": 3
   },
   "file_extension": ".py",
   "mimetype": "text/x-python",
   "name": "python",
   "nbconvert_exporter": "python",
   "pygments_lexer": "ipython3",
   "version": "3.7.6"
  }
 },
 "nbformat": 4,
 "nbformat_minor": 4
}
