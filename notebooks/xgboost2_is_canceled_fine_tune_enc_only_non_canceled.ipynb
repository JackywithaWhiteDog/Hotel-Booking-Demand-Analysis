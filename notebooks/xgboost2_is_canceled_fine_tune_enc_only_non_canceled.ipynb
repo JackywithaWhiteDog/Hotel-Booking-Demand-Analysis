{
 "cells": [
  {
   "cell_type": "code",
   "execution_count": null,
   "metadata": {},
   "outputs": [],
   "source": [
    "from HTML import config as Config\n",
    "from HTML.dataset import *\n",
    "from HTML.config import ratio, nominal, ordinal, meaningless\n",
    "# from HTML.preprocessing import preprocessing\n",
    "import pandas as pd\n",
    "import numpy as np\n",
    "import matplotlib.pyplot as plt\n",
    "%matplotlib inline"
   ]
  },
  {
   "cell_type": "code",
   "execution_count": null,
   "metadata": {},
   "outputs": [],
   "source": [
    "df_train = pd.read_csv(Config.train_path)\n",
    "df_train.head()"
   ]
  },
  {
   "cell_type": "code",
   "execution_count": null,
   "metadata": {},
   "outputs": [],
   "source": [
    "df_train.shape"
   ]
  },
  {
   "cell_type": "code",
   "execution_count": null,
   "metadata": {},
   "outputs": [],
   "source": [
    "def preprocessing(df):\n",
    "    result = df.copy()\n",
    "    result = result.drop(columns=['company', 'ID', 'index'], errors='ignore')\n",
    "    result = result.fillna({\n",
    "        'children': 0,\n",
    "        'country': 'None',\n",
    "        'agent': 'None'\n",
    "    })\n",
    "    result['stays_in_nights'] = result['stays_in_weekend_nights'] + result['stays_in_week_nights']\n",
    "    result['same_room_type'] = (df['assigned_room_type'] == df['reserved_room_type']).astype(str)\n",
    "    categories = sorted(list(set(result.columns) & set(ordinal+nominal+meaningless+['same_room_type'])))\n",
    "    numeral = sorted(list(set(result.columns) - set(categories)))\n",
    "    result[categories] = result[categories].astype(str)\n",
    "    result[numeral] = result[numeral].astype(float)\n",
    "    return result"
   ]
  },
  {
   "cell_type": "code",
   "execution_count": null,
   "metadata": {},
   "outputs": [],
   "source": [
    "df_train = preprocessing(df_train)\n",
    "df_train.head()"
   ]
  },
  {
   "cell_type": "code",
   "execution_count": null,
   "metadata": {},
   "outputs": [],
   "source": [
    "df_train.shape"
   ]
  },
  {
   "cell_type": "code",
   "execution_count": null,
   "metadata": {},
   "outputs": [],
   "source": [
    "y_train_is_canceled = df_train['is_canceled'].to_numpy()\n",
    "y_train_is_canceled_adr = df_train['adr'].to_numpy()\n",
    "y_train_adr = df_train[(df_train['adr'] < 5000) & (df_train['is_canceled'] == '0')]['adr'].to_numpy()"
   ]
  },
  {
   "cell_type": "code",
   "execution_count": null,
   "metadata": {},
   "outputs": [],
   "source": [
    "from sklearn.preprocessing import OneHotEncoder"
   ]
  },
  {
   "cell_type": "code",
   "execution_count": null,
   "metadata": {},
   "outputs": [],
   "source": [
    "enc = OneHotEncoder(drop='if_binary', sparse=False)"
   ]
  },
  {
   "cell_type": "code",
   "execution_count": null,
   "metadata": {},
   "outputs": [],
   "source": [
    "not_features = {'arrival_date_year', 'adr', 'reservation_status', 'reservation_status_date', 'is_canceled'}"
   ]
  },
  {
   "cell_type": "code",
   "execution_count": null,
   "metadata": {},
   "outputs": [],
   "source": [
    "categories_train = df_train[sorted(list(set(df_train.columns[df_train.dtypes == object]) - not_features))].astype(str)\n",
    "cat = enc.fit_transform(categories_train.to_numpy())"
   ]
  },
  {
   "cell_type": "code",
   "execution_count": null,
   "metadata": {},
   "outputs": [],
   "source": [
    "categories_train.shape"
   ]
  },
  {
   "cell_type": "code",
   "execution_count": null,
   "metadata": {},
   "outputs": [],
   "source": [
    "cat.shape"
   ]
  },
  {
   "cell_type": "code",
   "execution_count": null,
   "metadata": {},
   "outputs": [],
   "source": [
    "number = df_train[sorted(list(set(df_train.columns[df_train.dtypes == float]) - not_features))]\n",
    "num = number.to_numpy()"
   ]
  },
  {
   "cell_type": "code",
   "execution_count": null,
   "metadata": {},
   "outputs": [],
   "source": [
    "num.shape"
   ]
  },
  {
   "cell_type": "code",
   "execution_count": null,
   "metadata": {},
   "outputs": [],
   "source": [
    "tmp = np.concatenate((cat, num), axis=1)\n",
    "x_train_is_canceled = tmp.copy()\n",
    "x_train_adr = tmp[(df_train['adr'] < 5000) & (df_train['is_canceled'] == '0'),:].copy()"
   ]
  },
  {
   "cell_type": "code",
   "execution_count": null,
   "metadata": {},
   "outputs": [],
   "source": [
    "# dummies = pd.get_dummies(\n",
    "#         data=df_train[set(df_train.columns) - {'reservation_status', 'reservation_status_date', 'is_canceled'}],\n",
    "#         columns=set(nominal+ordinal) - {'reservation_status', 'reservation_status_date', 'is_canceled'},\n",
    "#         drop_first=True,\n",
    "#         dummy_na=True)\n",
    "# dummies = dummies[sorted(set(dummies.columns) - {'index', 'ID'} - set(meaningless))]\n",
    "# x_train_res = dummies[sorted(list(set(dummies.columns) - {'adr'}))].to_numpy()\n",
    "# x_train_adr = dummies[dummies['adr'] < 5000][sorted(list(set(dummies.columns) - {'adr'}))].to_numpy()"
   ]
  },
  {
   "cell_type": "code",
   "execution_count": null,
   "metadata": {},
   "outputs": [],
   "source": [
    "print('adr:', x_train_adr.shape, y_train_adr.shape)\n",
    "print('res:', x_train_is_canceled.shape, y_train_is_canceled.shape)"
   ]
  },
  {
   "cell_type": "code",
   "execution_count": null,
   "metadata": {},
   "outputs": [],
   "source": [
    "from xgboost import XGBClassifier, XGBRegressor"
   ]
  },
  {
   "cell_type": "code",
   "execution_count": null,
   "metadata": {},
   "outputs": [],
   "source": [
    "from sklearn.model_selection import RandomizedSearchCV\n",
    "\n",
    "params = {\n",
    "    'n_estimators': [100],\n",
    "    'learning_rate': [.3],\n",
    "    'max_depth': [3,6,8],\n",
    "    'min_child_weight': [0,1,3],\n",
    "    'colsample_bytree': [.3,.5],\n",
    "    'subsample': [.3,.5],\n",
    "    'gamma': [1,10,20],\n",
    "    'objective': ['reg:squarederror', 'reg:pseudohubererror'],\n",
    "    'n_jobs': [-1],\n",
    "    'random_state': [1126],\n",
    "    'tree_method': ['gpu_hist'],\n",
    "    'predictor': ['gpu_predictor'],\n",
    "    'deterministic_histogram': [False]\n",
    "}\n",
    "\n",
    "regr_cv = RandomizedSearchCV(\n",
    "    XGBRegressor(),\n",
    "    params,\n",
    "    scoring=['neg_mean_absolute_error', 'neg_mean_squared_error'],\n",
    "    refit='neg_mean_squared_error',\n",
    "    n_iter=50,\n",
    "    n_jobs=3,\n",
    "#     pre_dispatch=12,\n",
    "    verbose=10,\n",
    "    return_train_score=True\n",
    ")\n",
    "\n",
    "regr_cv.fit(x_train_adr, y_train_adr)"
   ]
  },
  {
   "cell_type": "code",
   "execution_count": null,
   "metadata": {},
   "outputs": [],
   "source": [
    "# result = pd.DataFrame(regr_cv.cv_results_)\n",
    "# result.head()"
   ]
  },
  {
   "cell_type": "code",
   "execution_count": null,
   "metadata": {},
   "outputs": [],
   "source": [
    "regr_cv.best_estimator_.get_params()"
   ]
  },
  {
   "cell_type": "code",
   "execution_count": null,
   "metadata": {},
   "outputs": [],
   "source": [
    "regr = regr_cv.best_estimator_\n",
    "# regr = XGBRegressor(\n",
    "#     objective='reg:squarederror',\n",
    "#     n_estimators=100,\n",
    "#     learning_rate=.3,\n",
    "#     max_depth=6,\n",
    "#     min_child_weight=1,\n",
    "#     colsample_bytree=.5,\n",
    "#     subsample=.5,\n",
    "#     gamma=1,\n",
    "#     n_jobs=-1,\n",
    "#     random_state=1126,\n",
    "#     tree_method='gpu_hist',\n",
    "#     predictor='gpu_predictor',\n",
    "#     deterministic_histogram=False\n",
    "# )"
   ]
  },
  {
   "cell_type": "code",
   "execution_count": null,
   "metadata": {},
   "outputs": [],
   "source": [
    "regr.fit(x_train_adr, y_train_adr)"
   ]
  },
  {
   "cell_type": "code",
   "execution_count": null,
   "metadata": {},
   "outputs": [],
   "source": [
    "np.argsort(regr.feature_importances_)[::-1][:10]"
   ]
  },
  {
   "cell_type": "code",
   "execution_count": null,
   "metadata": {},
   "outputs": [],
   "source": [
    "from xgboost import plot_importance\n",
    "plot_importance(regr, importance_type='gain', max_num_features=10, grid=False)\n",
    "plt.show()"
   ]
  },
  {
   "cell_type": "code",
   "execution_count": null,
   "metadata": {},
   "outputs": [],
   "source": [
    "y_train_is_canceled"
   ]
  },
  {
   "cell_type": "code",
   "execution_count": null,
   "metadata": {},
   "outputs": [],
   "source": [
    "# from sklearn.model_selection import RandomizedSearchCV\n",
    "\n",
    "# params = {\n",
    "#     'n_estimators': [100],\n",
    "#     'learning_rate': [.3],\n",
    "#     'max_depth': [3,6,8],\n",
    "#     'min_child_weight': [0,1,3],\n",
    "#     'colsample_bytree': [.3,.5],\n",
    "#     'subsample': [.3,.5],\n",
    "#     'gamma': [1,10,20],\n",
    "#     'objective': ['binary:logistic', 'binary:logitraw', 'count:poisson', 'reg:tweedie'],\n",
    "#     'n_jobs': [-1],\n",
    "#     'random_state': [1126],\n",
    "#     'tree_method': ['gpu_hist'],\n",
    "#     'predictor': ['gpu_predictor'],\n",
    "#     'deterministic_histogram': [False]\n",
    "# }\n",
    "\n",
    "# clf_cv = RandomizedSearchCV(\n",
    "#     XGBClassifier(),\n",
    "#     params,\n",
    "#     scoring=['accuracy', 'f1'],\n",
    "#     refit='f1',\n",
    "#     n_iter=100,\n",
    "#     n_jobs=2,\n",
    "# #     pre_dispatch=12,\n",
    "#     verbose=10,\n",
    "#     return_train_score=True\n",
    "# )\n",
    "\n",
    "# clf_cv.fit(x_train_is_canceled, y_train_is_canceled.astype(int))"
   ]
  },
  {
   "cell_type": "code",
   "execution_count": null,
   "metadata": {},
   "outputs": [],
   "source": [
    "# clf_cv.best_estimator_.get_params()"
   ]
  },
  {
   "cell_type": "code",
   "execution_count": null,
   "metadata": {},
   "outputs": [],
   "source": [
    "# clf = clf_cv.best_estimator_\n",
    "clf = XGBClassifier(\n",
    "    objective='count:poisson',\n",
    "    n_estimators=100,\n",
    "    learning_rate=.3,\n",
    "    max_depth=6,\n",
    "    subsample=.7,\n",
    "    colsample_bytree=.7,\n",
    "    gamma=1,\n",
    "    max_delta_step=0.699999988,\n",
    "    n_jobs=-1,\n",
    "    random_state=1126,\n",
    "    tree_method='gpu_hist',\n",
    "    predictor='gpu_predictor',\n",
    "    deterministic_histogram=False\n",
    ")\n",
    "clf.fit(x_train_is_canceled, y_train_is_canceled)"
   ]
  },
  {
   "cell_type": "code",
   "execution_count": null,
   "metadata": {},
   "outputs": [],
   "source": [
    "np.argsort(clf.feature_importances_)[::-1][:10]"
   ]
  },
  {
   "cell_type": "code",
   "execution_count": null,
   "metadata": {},
   "outputs": [],
   "source": [
    "plot_importance(clf, importance_type='gain', max_num_features=10, grid=False)\n",
    "plt.show()"
   ]
  },
  {
   "cell_type": "code",
   "execution_count": null,
   "metadata": {},
   "outputs": [],
   "source": [
    "number.columns"
   ]
  },
  {
   "cell_type": "code",
   "execution_count": null,
   "metadata": {},
   "outputs": [],
   "source": [
    "categories_train.columns"
   ]
  },
  {
   "cell_type": "code",
   "execution_count": null,
   "metadata": {},
   "outputs": [],
   "source": [
    "c_unique = [len(categories_train[c].unique()) for c in categories_train.columns]\n",
    "sum(c_unique)"
   ]
  },
  {
   "cell_type": "code",
   "execution_count": null,
   "metadata": {},
   "outputs": [],
   "source": [
    "np.cumsum(c_unique)"
   ]
  },
  {
   "cell_type": "code",
   "execution_count": null,
   "metadata": {},
   "outputs": [],
   "source": [
    "plt.plot(np.cumsum(c_unique))"
   ]
  },
  {
   "cell_type": "code",
   "execution_count": null,
   "metadata": {},
   "outputs": [],
   "source": [
    "pred_adr = regr.predict(x_train_is_canceled)\n",
    "prob_is_canceled = clf.predict_proba(x_train_is_canceled)"
   ]
  },
  {
   "cell_type": "code",
   "execution_count": null,
   "metadata": {},
   "outputs": [],
   "source": [
    "np.mean(np.abs(pred_adr - y_train_is_canceled_adr))"
   ]
  },
  {
   "cell_type": "code",
   "execution_count": null,
   "metadata": {},
   "outputs": [],
   "source": [
    "np.mean((pred_adr - y_train_is_canceled_adr)**2)"
   ]
  },
  {
   "cell_type": "code",
   "execution_count": null,
   "metadata": {},
   "outputs": [],
   "source": [
    "pred_is_canceled = 1- prob_is_canceled[:,0].copy()"
   ]
  },
  {
   "cell_type": "code",
   "execution_count": null,
   "metadata": {},
   "outputs": [],
   "source": [
    "pred_is_canceled"
   ]
  },
  {
   "cell_type": "code",
   "execution_count": null,
   "metadata": {},
   "outputs": [],
   "source": [
    "tmp = clf.predict(x_train_is_canceled)"
   ]
  },
  {
   "cell_type": "code",
   "execution_count": null,
   "metadata": {},
   "outputs": [],
   "source": [
    "tmp"
   ]
  },
  {
   "cell_type": "code",
   "execution_count": null,
   "metadata": {},
   "outputs": [],
   "source": [
    "tmp = tmp.astype(int)\n",
    "np.unique(tmp)"
   ]
  },
  {
   "cell_type": "code",
   "execution_count": null,
   "metadata": {},
   "outputs": [],
   "source": [
    "tmp"
   ]
  },
  {
   "cell_type": "code",
   "execution_count": null,
   "metadata": {},
   "outputs": [],
   "source": [
    "1 - np.mean(np.abs(tmp - y_train_is_canceled.astype(int)))"
   ]
  },
  {
   "cell_type": "code",
   "execution_count": null,
   "metadata": {},
   "outputs": [],
   "source": [
    "new_df_train = df_train.copy().reset_index()\n",
    "new_df_train['revenue'] = new_df_train['adr'] * np.sum(new_df_train[['stays_in_weekend_nights', 'stays_in_week_nights']], axis=1) * (1-new_df_train['is_canceled'].astype(int))\n",
    "new_df_train['pred_adr'] = pred_adr\n",
    "# new_df_train['pred_is_canceled'] = tmp\n",
    "new_df_train['pred_is_canceled'] = pred_is_canceled\n",
    "new_df_train['pred_revenue'] = new_df_train['pred_adr'] * np.sum(new_df_train[['stays_in_weekend_nights', 'stays_in_week_nights']], axis=1) * (1-new_df_train['pred_is_canceled'])\n",
    "new_df_train[['revenue', 'pred_revenue']].head()"
   ]
  },
  {
   "cell_type": "code",
   "execution_count": null,
   "metadata": {},
   "outputs": [],
   "source": [
    "plt.scatter(new_df_train['pred_revenue'], new_df_train['revenue'], alpha=.3)\n",
    "plt.show()"
   ]
  },
  {
   "cell_type": "code",
   "execution_count": null,
   "metadata": {},
   "outputs": [],
   "source": [
    "np.mean((new_df_train['revenue'] - new_df_train['pred_revenue']).to_numpy() ** 2)"
   ]
  },
  {
   "cell_type": "code",
   "execution_count": null,
   "metadata": {},
   "outputs": [],
   "source": [
    "np.mean(np.abs((new_df_train['revenue'] - new_df_train['pred_revenue']).to_numpy()))"
   ]
  },
  {
   "cell_type": "code",
   "execution_count": null,
   "metadata": {},
   "outputs": [],
   "source": [
    "dates = ['arrival_date_year', 'arrival_date_day_of_month']\n",
    "new_df_train[dates] = new_df_train[dates].astype(int)\n",
    "new_df_train = add_arrival_date(new_df_train)"
   ]
  },
  {
   "cell_type": "code",
   "execution_count": null,
   "metadata": {},
   "outputs": [],
   "source": [
    "new_df_train_sum = new_df_train[['revenue', 'pred_revenue', 'arrival_date']].groupby('arrival_date').sum()"
   ]
  },
  {
   "cell_type": "code",
   "execution_count": null,
   "metadata": {},
   "outputs": [],
   "source": [
    "new_df_train_sum.head()"
   ]
  },
  {
   "cell_type": "code",
   "execution_count": null,
   "metadata": {},
   "outputs": [],
   "source": [
    "plt.scatter(new_df_train_sum['pred_revenue'], new_df_train_sum['revenue'], alpha=.3)\n",
    "plt.show()"
   ]
  },
  {
   "cell_type": "code",
   "execution_count": null,
   "metadata": {},
   "outputs": [],
   "source": [
    "np.mean((new_df_train_sum['revenue'] - new_df_train_sum['pred_revenue']).to_numpy() ** 2)"
   ]
  },
  {
   "cell_type": "code",
   "execution_count": null,
   "metadata": {},
   "outputs": [],
   "source": [
    "np.mean(np.abs((new_df_train_sum['revenue'] - new_df_train_sum['pred_revenue']).to_numpy()))"
   ]
  },
  {
   "cell_type": "code",
   "execution_count": null,
   "metadata": {},
   "outputs": [],
   "source": [
    "y_train = pd.read_csv(Config.train_label_path)\n",
    "train = new_df_train_sum.merge(y_train, left_index=True, right_on='arrival_date')"
   ]
  },
  {
   "cell_type": "code",
   "execution_count": null,
   "metadata": {},
   "outputs": [],
   "source": [
    "plt.scatter(train['pred_revenue'], train['label'], alpha=.5)\n",
    "plt.scatter(train['revenue'], train['label'], alpha=.5)\n",
    "plt.show()"
   ]
  },
  {
   "cell_type": "code",
   "execution_count": null,
   "metadata": {},
   "outputs": [],
   "source": [
    "def get_pred(revenue, threshold):\n",
    "    pred = np.empty(len(revenue))\n",
    "    label   = revenue // 1e4\n",
    "    residual = revenue % 1e4\n",
    "    for i, (l, res) in enumerate(zip(label, residual)):\n",
    "        if np.abs(res - 5000) <= (5000 - threshold):\n",
    "            pred[i] = l\n",
    "        else:\n",
    "            pred[i] = min(9, max(0, l + res / 1e4 - int(res < 5000) + .5 + res/10000))\n",
    "    return pred"
   ]
  },
  {
   "cell_type": "code",
   "execution_count": null,
   "metadata": {},
   "outputs": [],
   "source": [
    "thresholds = np.arange(0, 5000, 100)\n",
    "best_e = np.inf\n",
    "best_t = -1\n",
    "for i, t in enumerate(thresholds):\n",
    "    pred = get_pred(train['pred_revenue'].copy(), t)\n",
    "    e = np.mean(np.abs(pred - train['label']))\n",
    "    if e < best_e:\n",
    "        best_e = e\n",
    "        best_t = t\n",
    "    print(f'\\r[{i+1}/{len(thresholds)}] threshold: {t} / MAE: {e}', end='')\n",
    "print(f'\\nbest threshold: {best_t} / best MAE: {best_e}')"
   ]
  },
  {
   "cell_type": "code",
   "execution_count": null,
   "metadata": {},
   "outputs": [],
   "source": [
    "np.mean(np.abs(np.floor(train['revenue'] / 10000) - train['label']))"
   ]
  },
  {
   "cell_type": "code",
   "execution_count": null,
   "metadata": {},
   "outputs": [],
   "source": [
    "np.mean(np.abs(np.floor(train['pred_revenue'] / 10000) - train['label']))"
   ]
  },
  {
   "cell_type": "code",
   "execution_count": null,
   "metadata": {},
   "outputs": [],
   "source": [
    "np.mean(np.abs(train['pred_revenue'] / 10000 - train['label']))"
   ]
  },
  {
   "cell_type": "code",
   "execution_count": null,
   "metadata": {},
   "outputs": [],
   "source": [
    "plt.plot(train['revenue'])\n",
    "plt.show()\n",
    "plt.plot(train['pred_revenue'])\n",
    "plt.show()"
   ]
  },
  {
   "cell_type": "code",
   "execution_count": null,
   "metadata": {},
   "outputs": [],
   "source": [
    "df_test = pd.read_csv(Config.test_path)\n",
    "df_test.head()"
   ]
  },
  {
   "cell_type": "code",
   "execution_count": null,
   "metadata": {},
   "outputs": [],
   "source": [
    "df_test = preprocessing(df_test)\n",
    "df_test.head()"
   ]
  },
  {
   "cell_type": "code",
   "execution_count": null,
   "metadata": {},
   "outputs": [],
   "source": [
    "num.shape"
   ]
  },
  {
   "cell_type": "code",
   "execution_count": null,
   "metadata": {},
   "outputs": [],
   "source": [
    "df_test.shape"
   ]
  },
  {
   "cell_type": "code",
   "execution_count": null,
   "metadata": {},
   "outputs": [],
   "source": [
    "categories_test = df_test[sorted(list(set(df_test.columns[df_test.dtypes == object]) - not_features))].astype(str)\n",
    "for c in categories_train.columns:\n",
    "    if 'None' in categories_train[c].unique():\n",
    "        unkown = set(categories_test[c].unique()) - set(categories_train[c].unique())\n",
    "        categories_test[c][categories_test[c].isin(unkown)] = 'None'\n",
    "cat = enc.transform(categories_test.to_numpy())"
   ]
  },
  {
   "cell_type": "code",
   "execution_count": null,
   "metadata": {},
   "outputs": [],
   "source": [
    "categories_test.shape"
   ]
  },
  {
   "cell_type": "code",
   "execution_count": null,
   "metadata": {},
   "outputs": [],
   "source": [
    "cat.shape"
   ]
  },
  {
   "cell_type": "code",
   "execution_count": null,
   "metadata": {},
   "outputs": [],
   "source": [
    "number = df_test[sorted(list(set(df_test.columns[df_test.dtypes == float]) - not_features))]\n",
    "num = number.to_numpy()"
   ]
  },
  {
   "cell_type": "code",
   "execution_count": null,
   "metadata": {},
   "outputs": [],
   "source": [
    "num.shape"
   ]
  },
  {
   "cell_type": "code",
   "execution_count": null,
   "metadata": {},
   "outputs": [],
   "source": [
    "tmp = np.concatenate((cat, num), axis=1)\n",
    "x_test = tmp.copy()"
   ]
  },
  {
   "cell_type": "code",
   "execution_count": null,
   "metadata": {},
   "outputs": [],
   "source": [
    "print('test:', x_test.shape)"
   ]
  },
  {
   "cell_type": "code",
   "execution_count": null,
   "metadata": {},
   "outputs": [],
   "source": [
    "pred_adr = regr.predict(x_test)\n",
    "prob_is_canceled = clf.predict_proba(x_test)"
   ]
  },
  {
   "cell_type": "code",
   "execution_count": null,
   "metadata": {},
   "outputs": [],
   "source": [
    "pred_is_canceled = 1- prob_is_canceled[:,0].copy()"
   ]
  },
  {
   "cell_type": "code",
   "execution_count": null,
   "metadata": {},
   "outputs": [],
   "source": [
    "pred_is_canceled"
   ]
  },
  {
   "cell_type": "code",
   "execution_count": null,
   "metadata": {},
   "outputs": [],
   "source": [
    "tmp = clf.predict(x_test)\n",
    "tmp = tmp.astype(int)\n",
    "np.unique(tmp)"
   ]
  },
  {
   "cell_type": "code",
   "execution_count": null,
   "metadata": {},
   "outputs": [],
   "source": [
    "tmp"
   ]
  },
  {
   "cell_type": "code",
   "execution_count": null,
   "metadata": {},
   "outputs": [],
   "source": [
    "new_df_test = df_test.copy().reset_index()\n",
    "new_df_test['pred_adr'] = pred_adr\n",
    "# new_df_test['pred_is_canceled'] = tmp\n",
    "new_df_test['pred_is_canceled'] = pred_is_canceled\n",
    "new_df_test['pred_revenue'] = new_df_test['pred_adr'] * np.sum(new_df_test[['stays_in_weekend_nights', 'stays_in_week_nights']], axis=1) * (1-new_df_test['pred_is_canceled'])\n",
    "new_df_test[['pred_adr', 'pred_is_canceled', 'pred_revenue']].head()"
   ]
  },
  {
   "cell_type": "code",
   "execution_count": null,
   "metadata": {},
   "outputs": [],
   "source": [
    "new_df_train['is_canceled'] = new_df_train['is_canceled'].astype(int)\n",
    "new_df_train[['pred_adr', 'adr', 'pred_is_canceled', 'is_canceled', 'pred_revenue', 'revenue']].describe()"
   ]
  },
  {
   "cell_type": "code",
   "execution_count": null,
   "metadata": {},
   "outputs": [],
   "source": [
    "new_df_test[['pred_adr', 'pred_is_canceled', 'pred_revenue']].describe()"
   ]
  },
  {
   "cell_type": "code",
   "execution_count": null,
   "metadata": {},
   "outputs": [],
   "source": [
    "dates = ['arrival_date_year', 'arrival_date_day_of_month']\n",
    "new_df_test[dates] = new_df_test[dates].astype(int)\n",
    "new_df_test = add_arrival_date(new_df_test)"
   ]
  },
  {
   "cell_type": "code",
   "execution_count": null,
   "metadata": {},
   "outputs": [],
   "source": [
    "new_df_test_sum = new_df_test.groupby('arrival_date').sum()"
   ]
  },
  {
   "cell_type": "code",
   "execution_count": null,
   "metadata": {},
   "outputs": [],
   "source": [
    "new_df_test_sum.head()"
   ]
  },
  {
   "cell_type": "code",
   "execution_count": null,
   "metadata": {},
   "outputs": [],
   "source": [
    "new_df_test_sum['pred_revenue'].describe()"
   ]
  },
  {
   "cell_type": "code",
   "execution_count": null,
   "metadata": {},
   "outputs": [],
   "source": [
    "new_df_train_sum['revenue'].hist(density=True, bins=range(0,100000, 10000), alpha=.4)\n",
    "new_df_train_sum['pred_revenue'].hist(density=True, bins=range(0,100000, 10000), alpha=.4)\n",
    "new_df_test_sum['pred_revenue'].hist(density=True, bins=range(0,100000, 10000), alpha=.4)\n",
    "plt.legend(['train (actual)', 'train (pred)', 'test'])\n",
    "plt.show()"
   ]
  },
  {
   "cell_type": "code",
   "execution_count": null,
   "metadata": {},
   "outputs": [],
   "source": [
    "plt.plot(new_df_test_sum['pred_revenue'])\n",
    "plt.show()"
   ]
  },
  {
   "cell_type": "code",
   "execution_count": null,
   "metadata": {},
   "outputs": [],
   "source": [
    "len(new_df_train_sum)"
   ]
  },
  {
   "cell_type": "code",
   "execution_count": null,
   "metadata": {},
   "outputs": [],
   "source": [
    "len(new_df_test_sum)"
   ]
  },
  {
   "cell_type": "code",
   "execution_count": null,
   "metadata": {},
   "outputs": [],
   "source": [
    "plt.plot((new_df_train_sum['revenue'].to_list() + new_df_test_sum['pred_revenue'].to_list())[-200:])\n",
    "plt.show()"
   ]
  },
  {
   "cell_type": "code",
   "execution_count": null,
   "metadata": {},
   "outputs": [],
   "source": [
    "test_index = new_df_test_sum.index"
   ]
  },
  {
   "cell_type": "code",
   "execution_count": null,
   "metadata": {},
   "outputs": [],
   "source": [
    "label = np.floor(new_df_test_sum['pred_revenue'].to_numpy() / 10000)"
   ]
  },
  {
   "cell_type": "code",
   "execution_count": null,
   "metadata": {},
   "outputs": [],
   "source": [
    "plt.hist(train['label'], density=True, alpha=.7)\n",
    "plt.hist(label, bins=range(0,10), density=True, alpha=.7)\n",
    "plt.show()"
   ]
  },
  {
   "cell_type": "code",
   "execution_count": null,
   "metadata": {},
   "outputs": [],
   "source": [
    "from HTML.save import save_prediction\n",
    "save_prediction('../outputs//xgboost2_is_canceled_cv_enc_only_non_canceled.csv', test_index, label)"
   ]
  },
  {
   "cell_type": "code",
   "execution_count": null,
   "metadata": {},
   "outputs": [],
   "source": []
  }
 ],
 "metadata": {
  "kernelspec": {
   "display_name": "Python 3",
   "language": "python",
   "name": "python3"
  },
  "language_info": {
   "codemirror_mode": {
    "name": "ipython",
    "version": 3
   },
   "file_extension": ".py",
   "mimetype": "text/x-python",
   "name": "python",
   "nbconvert_exporter": "python",
   "pygments_lexer": "ipython3",
   "version": "3.7.6"
  }
 },
 "nbformat": 4,
 "nbformat_minor": 4
}
