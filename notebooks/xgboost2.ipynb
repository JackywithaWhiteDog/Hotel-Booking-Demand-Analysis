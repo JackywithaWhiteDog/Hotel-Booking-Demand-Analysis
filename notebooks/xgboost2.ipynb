{
 "cells": [
  {
   "cell_type": "code",
   "execution_count": 236,
   "metadata": {},
   "outputs": [],
   "source": [
    "from HTML import config as Config\n",
    "from HTML.dataset import *\n",
    "from HTML.config import ratio, nominal, ordinal, meaningless\n",
    "from HTML.preprocessing import preprocessing\n",
    "import pandas as pd\n",
    "import numpy as np\n",
    "import matplotlib.pyplot as plt\n",
    "%matplotlib inline"
   ]
  },
  {
   "cell_type": "code",
   "execution_count": 237,
   "metadata": {},
   "outputs": [
    {
     "data": {
      "text/html": [
       "<div>\n",
       "<style scoped>\n",
       "    .dataframe tbody tr th:only-of-type {\n",
       "        vertical-align: middle;\n",
       "    }\n",
       "\n",
       "    .dataframe tbody tr th {\n",
       "        vertical-align: top;\n",
       "    }\n",
       "\n",
       "    .dataframe thead th {\n",
       "        text-align: right;\n",
       "    }\n",
       "</style>\n",
       "<table border=\"1\" class=\"dataframe\">\n",
       "  <thead>\n",
       "    <tr style=\"text-align: right;\">\n",
       "      <th></th>\n",
       "      <th>ID</th>\n",
       "      <th>hotel</th>\n",
       "      <th>is_canceled</th>\n",
       "      <th>lead_time</th>\n",
       "      <th>arrival_date_year</th>\n",
       "      <th>arrival_date_month</th>\n",
       "      <th>arrival_date_week_number</th>\n",
       "      <th>arrival_date_day_of_month</th>\n",
       "      <th>stays_in_weekend_nights</th>\n",
       "      <th>stays_in_week_nights</th>\n",
       "      <th>...</th>\n",
       "      <th>deposit_type</th>\n",
       "      <th>agent</th>\n",
       "      <th>company</th>\n",
       "      <th>days_in_waiting_list</th>\n",
       "      <th>customer_type</th>\n",
       "      <th>adr</th>\n",
       "      <th>required_car_parking_spaces</th>\n",
       "      <th>total_of_special_requests</th>\n",
       "      <th>reservation_status</th>\n",
       "      <th>reservation_status_date</th>\n",
       "    </tr>\n",
       "  </thead>\n",
       "  <tbody>\n",
       "    <tr>\n",
       "      <th>0</th>\n",
       "      <td>0</td>\n",
       "      <td>Resort Hotel</td>\n",
       "      <td>0</td>\n",
       "      <td>342</td>\n",
       "      <td>2015</td>\n",
       "      <td>July</td>\n",
       "      <td>27</td>\n",
       "      <td>1</td>\n",
       "      <td>0</td>\n",
       "      <td>0</td>\n",
       "      <td>...</td>\n",
       "      <td>No Deposit</td>\n",
       "      <td>NaN</td>\n",
       "      <td>NaN</td>\n",
       "      <td>0</td>\n",
       "      <td>Transient</td>\n",
       "      <td>-6.305161</td>\n",
       "      <td>0</td>\n",
       "      <td>0</td>\n",
       "      <td>Check-Out</td>\n",
       "      <td>2015-07-01</td>\n",
       "    </tr>\n",
       "    <tr>\n",
       "      <th>1</th>\n",
       "      <td>1</td>\n",
       "      <td>City Hotel</td>\n",
       "      <td>0</td>\n",
       "      <td>257</td>\n",
       "      <td>2015</td>\n",
       "      <td>July</td>\n",
       "      <td>27</td>\n",
       "      <td>1</td>\n",
       "      <td>0</td>\n",
       "      <td>2</td>\n",
       "      <td>...</td>\n",
       "      <td>No Deposit</td>\n",
       "      <td>6.0</td>\n",
       "      <td>NaN</td>\n",
       "      <td>0</td>\n",
       "      <td>Transient</td>\n",
       "      <td>75.052227</td>\n",
       "      <td>0</td>\n",
       "      <td>0</td>\n",
       "      <td>Check-Out</td>\n",
       "      <td>2015-07-03</td>\n",
       "    </tr>\n",
       "    <tr>\n",
       "      <th>2</th>\n",
       "      <td>2</td>\n",
       "      <td>City Hotel</td>\n",
       "      <td>0</td>\n",
       "      <td>257</td>\n",
       "      <td>2015</td>\n",
       "      <td>July</td>\n",
       "      <td>27</td>\n",
       "      <td>1</td>\n",
       "      <td>0</td>\n",
       "      <td>2</td>\n",
       "      <td>...</td>\n",
       "      <td>No Deposit</td>\n",
       "      <td>6.0</td>\n",
       "      <td>NaN</td>\n",
       "      <td>0</td>\n",
       "      <td>Transient</td>\n",
       "      <td>74.546401</td>\n",
       "      <td>0</td>\n",
       "      <td>0</td>\n",
       "      <td>Check-Out</td>\n",
       "      <td>2015-07-03</td>\n",
       "    </tr>\n",
       "    <tr>\n",
       "      <th>3</th>\n",
       "      <td>3</td>\n",
       "      <td>City Hotel</td>\n",
       "      <td>0</td>\n",
       "      <td>257</td>\n",
       "      <td>2015</td>\n",
       "      <td>July</td>\n",
       "      <td>27</td>\n",
       "      <td>1</td>\n",
       "      <td>0</td>\n",
       "      <td>2</td>\n",
       "      <td>...</td>\n",
       "      <td>No Deposit</td>\n",
       "      <td>6.0</td>\n",
       "      <td>NaN</td>\n",
       "      <td>0</td>\n",
       "      <td>Transient</td>\n",
       "      <td>76.376288</td>\n",
       "      <td>0</td>\n",
       "      <td>0</td>\n",
       "      <td>Check-Out</td>\n",
       "      <td>2015-07-03</td>\n",
       "    </tr>\n",
       "    <tr>\n",
       "      <th>4</th>\n",
       "      <td>4</td>\n",
       "      <td>City Hotel</td>\n",
       "      <td>0</td>\n",
       "      <td>257</td>\n",
       "      <td>2015</td>\n",
       "      <td>July</td>\n",
       "      <td>27</td>\n",
       "      <td>1</td>\n",
       "      <td>0</td>\n",
       "      <td>2</td>\n",
       "      <td>...</td>\n",
       "      <td>No Deposit</td>\n",
       "      <td>6.0</td>\n",
       "      <td>NaN</td>\n",
       "      <td>0</td>\n",
       "      <td>Transient</td>\n",
       "      <td>49.411647</td>\n",
       "      <td>0</td>\n",
       "      <td>0</td>\n",
       "      <td>Check-Out</td>\n",
       "      <td>2015-07-03</td>\n",
       "    </tr>\n",
       "  </tbody>\n",
       "</table>\n",
       "<p>5 rows × 33 columns</p>\n",
       "</div>"
      ],
      "text/plain": [
       "   ID         hotel  is_canceled  lead_time  arrival_date_year  \\\n",
       "0   0  Resort Hotel            0        342               2015   \n",
       "1   1    City Hotel            0        257               2015   \n",
       "2   2    City Hotel            0        257               2015   \n",
       "3   3    City Hotel            0        257               2015   \n",
       "4   4    City Hotel            0        257               2015   \n",
       "\n",
       "  arrival_date_month  arrival_date_week_number  arrival_date_day_of_month  \\\n",
       "0               July                        27                          1   \n",
       "1               July                        27                          1   \n",
       "2               July                        27                          1   \n",
       "3               July                        27                          1   \n",
       "4               July                        27                          1   \n",
       "\n",
       "   stays_in_weekend_nights  stays_in_week_nights  ...  deposit_type  agent  \\\n",
       "0                        0                     0  ...    No Deposit    NaN   \n",
       "1                        0                     2  ...    No Deposit    6.0   \n",
       "2                        0                     2  ...    No Deposit    6.0   \n",
       "3                        0                     2  ...    No Deposit    6.0   \n",
       "4                        0                     2  ...    No Deposit    6.0   \n",
       "\n",
       "   company days_in_waiting_list customer_type        adr  \\\n",
       "0      NaN                    0     Transient  -6.305161   \n",
       "1      NaN                    0     Transient  75.052227   \n",
       "2      NaN                    0     Transient  74.546401   \n",
       "3      NaN                    0     Transient  76.376288   \n",
       "4      NaN                    0     Transient  49.411647   \n",
       "\n",
       "  required_car_parking_spaces  total_of_special_requests  reservation_status  \\\n",
       "0                           0                          0           Check-Out   \n",
       "1                           0                          0           Check-Out   \n",
       "2                           0                          0           Check-Out   \n",
       "3                           0                          0           Check-Out   \n",
       "4                           0                          0           Check-Out   \n",
       "\n",
       "   reservation_status_date  \n",
       "0               2015-07-01  \n",
       "1               2015-07-03  \n",
       "2               2015-07-03  \n",
       "3               2015-07-03  \n",
       "4               2015-07-03  \n",
       "\n",
       "[5 rows x 33 columns]"
      ]
     },
     "execution_count": 237,
     "metadata": {},
     "output_type": "execute_result"
    }
   ],
   "source": [
    "df_train = pd.read_csv(Config.train_path)\n",
    "df_train.head()"
   ]
  },
  {
   "cell_type": "code",
   "execution_count": 238,
   "metadata": {},
   "outputs": [
    {
     "data": {
      "text/plain": [
       "(91531, 33)"
      ]
     },
     "execution_count": 238,
     "metadata": {},
     "output_type": "execute_result"
    }
   ],
   "source": [
    "df_train.shape"
   ]
  },
  {
   "cell_type": "code",
   "execution_count": 239,
   "metadata": {},
   "outputs": [],
   "source": [
    "df_train = preprocessing(df_train)"
   ]
  },
  {
   "cell_type": "code",
   "execution_count": 240,
   "metadata": {},
   "outputs": [
    {
     "data": {
      "text/plain": [
       "(91527, 33)"
      ]
     },
     "execution_count": 240,
     "metadata": {},
     "output_type": "execute_result"
    }
   ],
   "source": [
    "df_train.shape"
   ]
  },
  {
   "cell_type": "code",
   "execution_count": 241,
   "metadata": {},
   "outputs": [],
   "source": [
    "fact = pd.factorize(df_train['reservation_status'])\n",
    "y_train_res = fact[0]\n",
    "y_train_adr = df_train[df_train['adr'] < 5000]['adr'].to_numpy()"
   ]
  },
  {
   "cell_type": "code",
   "execution_count": 242,
   "metadata": {},
   "outputs": [],
   "source": [
    "from sklearn.preprocessing import OneHotEncoder"
   ]
  },
  {
   "cell_type": "code",
   "execution_count": 243,
   "metadata": {},
   "outputs": [],
   "source": [
    "enc = OneHotEncoder(handle_unknown='ignore', sparse=False)"
   ]
  },
  {
   "cell_type": "code",
   "execution_count": 280,
   "metadata": {},
   "outputs": [],
   "source": [
    "categories = df_train[sorted(list(set(nominal+ordinal) - {'adr', 'reservation_status', 'reservation_status_date', 'is_canceled', 'ID', 'index'}))].astype(str).to_numpy()\n",
    "cat = enc.fit_transform(categories)"
   ]
  },
  {
   "cell_type": "code",
   "execution_count": 281,
   "metadata": {},
   "outputs": [
    {
     "data": {
      "text/plain": [
       "(91527, 941)"
      ]
     },
     "execution_count": 281,
     "metadata": {},
     "output_type": "execute_result"
    }
   ],
   "source": [
    "cat.shape"
   ]
  },
  {
   "cell_type": "code",
   "execution_count": 282,
   "metadata": {},
   "outputs": [],
   "source": [
    "num = df_train[sorted(list(set(df_train.columns) - set(nominal+ordinal) - {'adr', 'reservation_status', 'reservation_status_date', 'is_canceled', 'ID', 'index'}))].to_numpy()"
   ]
  },
  {
   "cell_type": "code",
   "execution_count": 283,
   "metadata": {},
   "outputs": [
    {
     "data": {
      "text/plain": [
       "(91527, 13)"
      ]
     },
     "execution_count": 283,
     "metadata": {},
     "output_type": "execute_result"
    }
   ],
   "source": [
    "num.shape"
   ]
  },
  {
   "cell_type": "code",
   "execution_count": 284,
   "metadata": {},
   "outputs": [],
   "source": [
    "tmp = np.concatenate((cat, num), axis=1)\n",
    "x_train_res = tmp.copy()\n",
    "x_train_adr = tmp[df_train['adr'] < 5000,:].copy()"
   ]
  },
  {
   "cell_type": "code",
   "execution_count": 285,
   "metadata": {},
   "outputs": [],
   "source": [
    "# dummies = pd.get_dummies(\n",
    "#         data=df_train[set(df_train.columns) - {'reservation_status', 'reservation_status_date', 'is_canceled'}],\n",
    "#         columns=set(nominal+ordinal) - {'reservation_status', 'reservation_status_date', 'is_canceled'},\n",
    "#         drop_first=True,\n",
    "#         dummy_na=True)\n",
    "# dummies = dummies[sorted(set(dummies.columns) - {'index', 'ID'} - set(meaningless))]\n",
    "# x_train_res = dummies[sorted(list(set(dummies.columns) - {'adr'}))].to_numpy()\n",
    "# x_train_adr = dummies[dummies['adr'] < 5000][sorted(list(set(dummies.columns) - {'adr'}))].to_numpy()"
   ]
  },
  {
   "cell_type": "code",
   "execution_count": 286,
   "metadata": {},
   "outputs": [
    {
     "name": "stdout",
     "output_type": "stream",
     "text": [
      "adr: (91526, 954) (91526,)\n",
      "res: (91527, 954) (91527,)\n"
     ]
    }
   ],
   "source": [
    "print('adr:', x_train_adr.shape, y_train_adr.shape)\n",
    "print('res:', x_train_res.shape, y_train_res.shape)"
   ]
  },
  {
   "cell_type": "code",
   "execution_count": 287,
   "metadata": {},
   "outputs": [],
   "source": [
    "from xgboost import XGBClassifier, XGBRegressor"
   ]
  },
  {
   "cell_type": "code",
   "execution_count": 288,
   "metadata": {},
   "outputs": [
    {
     "data": {
      "text/plain": [
       "XGBRegressor(base_score=0.5, booster='gbtree', colsample_bylevel=1,\n",
       "             colsample_bynode=1, colsample_bytree=0.7, gamma=10, gpu_id=-1,\n",
       "             importance_type='gain', interaction_constraints='',\n",
       "             learning_rate=0.3, max_delta_step=0, max_depth=6,\n",
       "             min_child_weight=1, missing=nan, monotone_constraints='()',\n",
       "             n_estimators=100, n_jobs=6, num_parallel_tree=1, random_state=1126,\n",
       "             reg_alpha=0, reg_lambda=1, scale_pos_weight=1, subsample=1,\n",
       "             tree_method='exact', validate_parameters=1, verbosity=None)"
      ]
     },
     "execution_count": 288,
     "metadata": {},
     "output_type": "execute_result"
    }
   ],
   "source": [
    "regr = XGBRegressor(\n",
    "    n_estimators=100,\n",
    "    learning_rate=.3,\n",
    "    max_depth=6,\n",
    "    subsample=1,\n",
    "    n_jobs=6,\n",
    "    colsample_bytree=.7,\n",
    "    random_state=1126,\n",
    "    gamma=10\n",
    ")\n",
    "regr.fit(x_train_adr, y_train_adr)"
   ]
  },
  {
   "cell_type": "code",
   "execution_count": 289,
   "metadata": {},
   "outputs": [
    {
     "name": "stderr",
     "output_type": "stream",
     "text": [
      "/home/jacky/.pyenv/versions/html-3.7.6/lib/python3.7/site-packages/xgboost/sklearn.py:892: UserWarning: The use of label encoder in XGBClassifier is deprecated and will be removed in a future release. To remove this warning, do the following: 1) Pass option use_label_encoder=False when constructing XGBClassifier object; and 2) Encode your labels (y) as integers starting with 0, i.e. 0, 1, 2, ..., [num_class - 1].\n",
      "  warnings.warn(label_encoder_deprecation_msg, UserWarning)\n"
     ]
    },
    {
     "name": "stdout",
     "output_type": "stream",
     "text": [
      "[01:12:24] WARNING: ../src/learner.cc:1061: Starting in XGBoost 1.3.0, the default evaluation metric used with the objective 'multi:softprob' was changed from 'merror' to 'mlogloss'. Explicitly set eval_metric if you'd like to restore the old behavior.\n"
     ]
    },
    {
     "data": {
      "text/plain": [
       "XGBClassifier(base_score=0.5, booster='gbtree', colsample_bylevel=1,\n",
       "              colsample_bynode=1, colsample_bytree=0.9, gamma=10, gpu_id=-1,\n",
       "              importance_type='gain', interaction_constraints='',\n",
       "              learning_rate=0.3, max_delta_step=0, max_depth=6,\n",
       "              min_child_weight=1, missing=nan, monotone_constraints='()',\n",
       "              n_estimators=10, n_jobs=6, num_class=2, num_parallel_tree=1,\n",
       "              objective='multi:softprob', random_state=1126, reg_alpha=0,\n",
       "              reg_lambda=1, scale_pos_weight=None, subsample=0.3,\n",
       "              tree_method='exact', validate_parameters=1, verbosity=None)"
      ]
     },
     "execution_count": 289,
     "metadata": {},
     "output_type": "execute_result"
    }
   ],
   "source": [
    "clf = XGBClassifier(\n",
    "    objective='multi:prob',\n",
    "    n_estimators=10,\n",
    "    learning_rate=.3,\n",
    "    max_depth=6,\n",
    "    subsample=.3,\n",
    "    n_jobs=6,\n",
    "    colsample_bytree=.9,\n",
    "    random_state=1126,\n",
    "    gamma=10,\n",
    "    num_class=2\n",
    ")\n",
    "clf.fit(x_train_res, y_train_res)"
   ]
  },
  {
   "cell_type": "code",
   "execution_count": 290,
   "metadata": {},
   "outputs": [],
   "source": [
    "pred_adr = regr.predict(x_train_adr)\n",
    "prob_res = clf.predict_proba(x_train_adr)"
   ]
  },
  {
   "cell_type": "code",
   "execution_count": 291,
   "metadata": {},
   "outputs": [],
   "source": [
    "pred_res = 1 - prob_res[:,0].copy()"
   ]
  },
  {
   "cell_type": "code",
   "execution_count": 292,
   "metadata": {},
   "outputs": [
    {
     "data": {
      "text/plain": [
       "array([0.37321138, 0.25274855, 0.37537652, ..., 0.07865852, 0.08821869,\n",
       "       0.10653806], dtype=float32)"
      ]
     },
     "execution_count": 292,
     "metadata": {},
     "output_type": "execute_result"
    }
   ],
   "source": [
    "pred_res"
   ]
  },
  {
   "cell_type": "code",
   "execution_count": 293,
   "metadata": {},
   "outputs": [],
   "source": [
    "tmp = clf.predict(x_train_adr)"
   ]
  },
  {
   "cell_type": "code",
   "execution_count": 294,
   "metadata": {},
   "outputs": [
    {
     "data": {
      "text/html": [
       "<div>\n",
       "<style scoped>\n",
       "    .dataframe tbody tr th:only-of-type {\n",
       "        vertical-align: middle;\n",
       "    }\n",
       "\n",
       "    .dataframe tbody tr th {\n",
       "        vertical-align: top;\n",
       "    }\n",
       "\n",
       "    .dataframe thead th {\n",
       "        text-align: right;\n",
       "    }\n",
       "</style>\n",
       "<table border=\"1\" class=\"dataframe\">\n",
       "  <thead>\n",
       "    <tr style=\"text-align: right;\">\n",
       "      <th></th>\n",
       "      <th>revenue</th>\n",
       "      <th>pred_revenue</th>\n",
       "    </tr>\n",
       "  </thead>\n",
       "  <tbody>\n",
       "    <tr>\n",
       "      <th>0</th>\n",
       "      <td>-0.000000</td>\n",
       "      <td>0.000000</td>\n",
       "    </tr>\n",
       "    <tr>\n",
       "      <th>1</th>\n",
       "      <td>150.104454</td>\n",
       "      <td>68.195241</td>\n",
       "    </tr>\n",
       "    <tr>\n",
       "      <th>2</th>\n",
       "      <td>149.092802</td>\n",
       "      <td>91.994983</td>\n",
       "    </tr>\n",
       "    <tr>\n",
       "      <th>3</th>\n",
       "      <td>152.752575</td>\n",
       "      <td>91.994983</td>\n",
       "    </tr>\n",
       "    <tr>\n",
       "      <th>4</th>\n",
       "      <td>98.823294</td>\n",
       "      <td>91.994983</td>\n",
       "    </tr>\n",
       "  </tbody>\n",
       "</table>\n",
       "</div>"
      ],
      "text/plain": [
       "      revenue  pred_revenue\n",
       "0   -0.000000      0.000000\n",
       "1  150.104454     68.195241\n",
       "2  149.092802     91.994983\n",
       "3  152.752575     91.994983\n",
       "4   98.823294     91.994983"
      ]
     },
     "execution_count": 294,
     "metadata": {},
     "output_type": "execute_result"
    }
   ],
   "source": [
    "new_df_train = df_train[df_train['adr'] < 5000].copy().reset_index()\n",
    "new_df_train['revenue'] = new_df_train['adr'] * np.sum(new_df_train[['stays_in_weekend_nights', 'stays_in_week_nights']], axis=1) * (1-new_df_train['is_canceled'])\n",
    "new_df_train['pred_adr'] = pred_adr\n",
    "# new_df_train['pred_is_canceled'] = (tmp != 0).astype(float)\n",
    "new_df_train['pred_is_canceled'] = pred_res\n",
    "new_df_train['pred_revenue'] = new_df_train['pred_adr'] * np.sum(new_df_train[['stays_in_weekend_nights', 'stays_in_week_nights']], axis=1) * (1-new_df_train['pred_is_canceled'])\n",
    "new_df_train[['revenue', 'pred_revenue']].head()"
   ]
  },
  {
   "cell_type": "code",
   "execution_count": 295,
   "metadata": {},
   "outputs": [
    {
     "data": {
      "image/png": "[encoded data removed]",
      "text/plain": [
       "<Figure size 432x288 with 1 Axes>"
      ]
     },
     "metadata": {
      "needs_background": "light"
     },
     "output_type": "display_data"
    }
   ],
   "source": [
    "plt.scatter(new_df_train['pred_revenue'], new_df_train['revenue'])\n",
    "plt.show()"
   ]
  },
  {
   "cell_type": "code",
   "execution_count": 296,
   "metadata": {},
   "outputs": [
    {
     "data": {
      "text/plain": [
       "23414.276072862613"
      ]
     },
     "execution_count": 296,
     "metadata": {},
     "output_type": "execute_result"
    }
   ],
   "source": [
    "np.mean((new_df_train['revenue'] - new_df_train['pred_revenue']).to_numpy() ** 2)"
   ]
  },
  {
   "cell_type": "code",
   "execution_count": 297,
   "metadata": {},
   "outputs": [],
   "source": [
    "new_df_train = add_arrival_date(new_df_train)"
   ]
  },
  {
   "cell_type": "code",
   "execution_count": 298,
   "metadata": {},
   "outputs": [],
   "source": [
    "new_df_train_sum = new_df_train.groupby('arrival_date').sum()"
   ]
  },
  {
   "cell_type": "code",
   "execution_count": 299,
   "metadata": {},
   "outputs": [
    {
     "data": {
      "text/html": [
       "<div>\n",
       "<style scoped>\n",
       "    .dataframe tbody tr th:only-of-type {\n",
       "        vertical-align: middle;\n",
       "    }\n",
       "\n",
       "    .dataframe tbody tr th {\n",
       "        vertical-align: top;\n",
       "    }\n",
       "\n",
       "    .dataframe thead th {\n",
       "        text-align: right;\n",
       "    }\n",
       "</style>\n",
       "<table border=\"1\" class=\"dataframe\">\n",
       "  <thead>\n",
       "    <tr style=\"text-align: right;\">\n",
       "      <th></th>\n",
       "      <th>index</th>\n",
       "      <th>ID</th>\n",
       "      <th>is_canceled</th>\n",
       "      <th>lead_time</th>\n",
       "      <th>arrival_date_year</th>\n",
       "      <th>arrival_date_week_number</th>\n",
       "      <th>arrival_date_day_of_month</th>\n",
       "      <th>stays_in_weekend_nights</th>\n",
       "      <th>stays_in_week_nights</th>\n",
       "      <th>adults</th>\n",
       "      <th>...</th>\n",
       "      <th>previous_bookings_not_canceled</th>\n",
       "      <th>booking_changes</th>\n",
       "      <th>days_in_waiting_list</th>\n",
       "      <th>adr</th>\n",
       "      <th>required_car_parking_spaces</th>\n",
       "      <th>total_of_special_requests</th>\n",
       "      <th>revenue</th>\n",
       "      <th>pred_adr</th>\n",
       "      <th>pred_is_canceled</th>\n",
       "      <th>pred_revenue</th>\n",
       "    </tr>\n",
       "    <tr>\n",
       "      <th>arrival_date</th>\n",
       "      <th></th>\n",
       "      <th></th>\n",
       "      <th></th>\n",
       "      <th></th>\n",
       "      <th></th>\n",
       "      <th></th>\n",
       "      <th></th>\n",
       "      <th></th>\n",
       "      <th></th>\n",
       "      <th></th>\n",
       "      <th></th>\n",
       "      <th></th>\n",
       "      <th></th>\n",
       "      <th></th>\n",
       "      <th></th>\n",
       "      <th></th>\n",
       "      <th></th>\n",
       "      <th></th>\n",
       "      <th></th>\n",
       "      <th></th>\n",
       "      <th></th>\n",
       "    </tr>\n",
       "  </thead>\n",
       "  <tbody>\n",
       "    <tr>\n",
       "      <th>2015-07-01</th>\n",
       "      <td>7381</td>\n",
       "      <td>7381</td>\n",
       "      <td>19</td>\n",
       "      <td>22783</td>\n",
       "      <td>245830</td>\n",
       "      <td>3294</td>\n",
       "      <td>122</td>\n",
       "      <td>45</td>\n",
       "      <td>335</td>\n",
       "      <td>223</td>\n",
       "      <td>...</td>\n",
       "      <td>9</td>\n",
       "      <td>33</td>\n",
       "      <td>0</td>\n",
       "      <td>8490.218248</td>\n",
       "      <td>4</td>\n",
       "      <td>39</td>\n",
       "      <td>20311.186621</td>\n",
       "      <td>8663.113281</td>\n",
       "      <td>45.041138</td>\n",
       "      <td>17390.947003</td>\n",
       "    </tr>\n",
       "    <tr>\n",
       "      <th>2015-07-02</th>\n",
       "      <td>15624</td>\n",
       "      <td>15624</td>\n",
       "      <td>57</td>\n",
       "      <td>14241</td>\n",
       "      <td>187395</td>\n",
       "      <td>2511</td>\n",
       "      <td>186</td>\n",
       "      <td>75</td>\n",
       "      <td>291</td>\n",
       "      <td>186</td>\n",
       "      <td>...</td>\n",
       "      <td>3</td>\n",
       "      <td>4</td>\n",
       "      <td>0</td>\n",
       "      <td>5938.812547</td>\n",
       "      <td>5</td>\n",
       "      <td>38</td>\n",
       "      <td>16530.645277</td>\n",
       "      <td>5829.162598</td>\n",
       "      <td>53.539928</td>\n",
       "      <td>15652.553765</td>\n",
       "    </tr>\n",
       "    <tr>\n",
       "      <th>2015-07-03</th>\n",
       "      <td>13580</td>\n",
       "      <td>13580</td>\n",
       "      <td>19</td>\n",
       "      <td>4080</td>\n",
       "      <td>112840</td>\n",
       "      <td>1512</td>\n",
       "      <td>168</td>\n",
       "      <td>53</td>\n",
       "      <td>187</td>\n",
       "      <td>112</td>\n",
       "      <td>...</td>\n",
       "      <td>0</td>\n",
       "      <td>6</td>\n",
       "      <td>0</td>\n",
       "      <td>4709.476079</td>\n",
       "      <td>7</td>\n",
       "      <td>27</td>\n",
       "      <td>12966.714164</td>\n",
       "      <td>4594.839355</td>\n",
       "      <td>17.732218</td>\n",
       "      <td>13083.151164</td>\n",
       "    </tr>\n",
       "    <tr>\n",
       "      <th>2015-07-04</th>\n",
       "      <td>27676</td>\n",
       "      <td>27676</td>\n",
       "      <td>43</td>\n",
       "      <td>13637</td>\n",
       "      <td>177320</td>\n",
       "      <td>2376</td>\n",
       "      <td>352</td>\n",
       "      <td>164</td>\n",
       "      <td>275</td>\n",
       "      <td>171</td>\n",
       "      <td>...</td>\n",
       "      <td>0</td>\n",
       "      <td>8</td>\n",
       "      <td>0</td>\n",
       "      <td>6301.681498</td>\n",
       "      <td>7</td>\n",
       "      <td>45</td>\n",
       "      <td>17480.654256</td>\n",
       "      <td>6584.820801</td>\n",
       "      <td>50.991840</td>\n",
       "      <td>14599.255998</td>\n",
       "    </tr>\n",
       "    <tr>\n",
       "      <th>2015-07-05</th>\n",
       "      <td>20405</td>\n",
       "      <td>20405</td>\n",
       "      <td>16</td>\n",
       "      <td>4433</td>\n",
       "      <td>106795</td>\n",
       "      <td>1484</td>\n",
       "      <td>265</td>\n",
       "      <td>121</td>\n",
       "      <td>195</td>\n",
       "      <td>103</td>\n",
       "      <td>...</td>\n",
       "      <td>0</td>\n",
       "      <td>11</td>\n",
       "      <td>0</td>\n",
       "      <td>4807.284096</td>\n",
       "      <td>13</td>\n",
       "      <td>24</td>\n",
       "      <td>19591.458478</td>\n",
       "      <td>5317.511230</td>\n",
       "      <td>17.063648</td>\n",
       "      <td>19411.313094</td>\n",
       "    </tr>\n",
       "  </tbody>\n",
       "</table>\n",
       "<p>5 rows × 24 columns</p>\n",
       "</div>"
      ],
      "text/plain": [
       "              index     ID  is_canceled  lead_time  arrival_date_year  \\\n",
       "arrival_date                                                            \n",
       "2015-07-01     7381   7381           19      22783             245830   \n",
       "2015-07-02    15624  15624           57      14241             187395   \n",
       "2015-07-03    13580  13580           19       4080             112840   \n",
       "2015-07-04    27676  27676           43      13637             177320   \n",
       "2015-07-05    20405  20405           16       4433             106795   \n",
       "\n",
       "              arrival_date_week_number  arrival_date_day_of_month  \\\n",
       "arrival_date                                                        \n",
       "2015-07-01                        3294                        122   \n",
       "2015-07-02                        2511                        186   \n",
       "2015-07-03                        1512                        168   \n",
       "2015-07-04                        2376                        352   \n",
       "2015-07-05                        1484                        265   \n",
       "\n",
       "              stays_in_weekend_nights  stays_in_week_nights  adults  ...  \\\n",
       "arrival_date                                                         ...   \n",
       "2015-07-01                         45                   335     223  ...   \n",
       "2015-07-02                         75                   291     186  ...   \n",
       "2015-07-03                         53                   187     112  ...   \n",
       "2015-07-04                        164                   275     171  ...   \n",
       "2015-07-05                        121                   195     103  ...   \n",
       "\n",
       "              previous_bookings_not_canceled  booking_changes  \\\n",
       "arrival_date                                                    \n",
       "2015-07-01                                 9               33   \n",
       "2015-07-02                                 3                4   \n",
       "2015-07-03                                 0                6   \n",
       "2015-07-04                                 0                8   \n",
       "2015-07-05                                 0               11   \n",
       "\n",
       "              days_in_waiting_list          adr  required_car_parking_spaces  \\\n",
       "arrival_date                                                                   \n",
       "2015-07-01                       0  8490.218248                            4   \n",
       "2015-07-02                       0  5938.812547                            5   \n",
       "2015-07-03                       0  4709.476079                            7   \n",
       "2015-07-04                       0  6301.681498                            7   \n",
       "2015-07-05                       0  4807.284096                           13   \n",
       "\n",
       "              total_of_special_requests       revenue     pred_adr  \\\n",
       "arrival_date                                                         \n",
       "2015-07-01                           39  20311.186621  8663.113281   \n",
       "2015-07-02                           38  16530.645277  5829.162598   \n",
       "2015-07-03                           27  12966.714164  4594.839355   \n",
       "2015-07-04                           45  17480.654256  6584.820801   \n",
       "2015-07-05                           24  19591.458478  5317.511230   \n",
       "\n",
       "              pred_is_canceled  pred_revenue  \n",
       "arrival_date                                  \n",
       "2015-07-01           45.041138  17390.947003  \n",
       "2015-07-02           53.539928  15652.553765  \n",
       "2015-07-03           17.732218  13083.151164  \n",
       "2015-07-04           50.991840  14599.255998  \n",
       "2015-07-05           17.063648  19411.313094  \n",
       "\n",
       "[5 rows x 24 columns]"
      ]
     },
     "execution_count": 299,
     "metadata": {},
     "output_type": "execute_result"
    }
   ],
   "source": [
    "new_df_train_sum.head()"
   ]
  },
  {
   "cell_type": "code",
   "execution_count": 300,
   "metadata": {},
   "outputs": [
    {
     "data": {
      "image/png": "[encoded data removed]",
      "text/plain": [
       "<Figure size 432x288 with 1 Axes>"
      ]
     },
     "metadata": {
      "needs_background": "light"
     },
     "output_type": "display_data"
    }
   ],
   "source": [
    "plt.scatter(new_df_train_sum['pred_revenue'], new_df_train_sum['revenue'])\n",
    "plt.show()"
   ]
  },
  {
   "cell_type": "code",
   "execution_count": 301,
   "metadata": {},
   "outputs": [
    {
     "data": {
      "text/plain": [
       "9039345.215140134"
      ]
     },
     "execution_count": 301,
     "metadata": {},
     "output_type": "execute_result"
    }
   ],
   "source": [
    "np.mean((new_df_train_sum['revenue'] - new_df_train_sum['pred_revenue']).to_numpy() ** 2)"
   ]
  },
  {
   "cell_type": "code",
   "execution_count": 302,
   "metadata": {},
   "outputs": [],
   "source": [
    "y_train = pd.read_csv(Config.train_label_path)\n",
    "train = new_df_train_sum.merge(y_train, left_index=True, right_on='arrival_date')"
   ]
  },
  {
   "cell_type": "code",
   "execution_count": 303,
   "metadata": {},
   "outputs": [
    {
     "data": {
      "image/png": "[encoded data removed]",
      "text/plain": [
       "<Figure size 432x288 with 1 Axes>"
      ]
     },
     "metadata": {
      "needs_background": "light"
     },
     "output_type": "display_data"
    }
   ],
   "source": [
    "plt.scatter(train['pred_revenue'], train['label'], alpha=.5)\n",
    "plt.scatter(train['revenue'], train['label'], alpha=.5)\n",
    "plt.show()"
   ]
  },
  {
   "cell_type": "code",
   "execution_count": 304,
   "metadata": {},
   "outputs": [
    {
     "data": {
      "text/html": [
       "<div>\n",
       "<style scoped>\n",
       "    .dataframe tbody tr th:only-of-type {\n",
       "        vertical-align: middle;\n",
       "    }\n",
       "\n",
       "    .dataframe tbody tr th {\n",
       "        vertical-align: top;\n",
       "    }\n",
       "\n",
       "    .dataframe thead th {\n",
       "        text-align: right;\n",
       "    }\n",
       "</style>\n",
       "<table border=\"1\" class=\"dataframe\">\n",
       "  <thead>\n",
       "    <tr style=\"text-align: right;\">\n",
       "      <th></th>\n",
       "      <th>ID</th>\n",
       "      <th>hotel</th>\n",
       "      <th>lead_time</th>\n",
       "      <th>arrival_date_year</th>\n",
       "      <th>arrival_date_month</th>\n",
       "      <th>arrival_date_week_number</th>\n",
       "      <th>arrival_date_day_of_month</th>\n",
       "      <th>stays_in_weekend_nights</th>\n",
       "      <th>stays_in_week_nights</th>\n",
       "      <th>adults</th>\n",
       "      <th>...</th>\n",
       "      <th>reserved_room_type</th>\n",
       "      <th>assigned_room_type</th>\n",
       "      <th>booking_changes</th>\n",
       "      <th>deposit_type</th>\n",
       "      <th>agent</th>\n",
       "      <th>company</th>\n",
       "      <th>days_in_waiting_list</th>\n",
       "      <th>customer_type</th>\n",
       "      <th>required_car_parking_spaces</th>\n",
       "      <th>total_of_special_requests</th>\n",
       "    </tr>\n",
       "  </thead>\n",
       "  <tbody>\n",
       "    <tr>\n",
       "      <th>0</th>\n",
       "      <td>91531</td>\n",
       "      <td>City Hotel</td>\n",
       "      <td>75</td>\n",
       "      <td>2017</td>\n",
       "      <td>April</td>\n",
       "      <td>13</td>\n",
       "      <td>1</td>\n",
       "      <td>2</td>\n",
       "      <td>5</td>\n",
       "      <td>2</td>\n",
       "      <td>...</td>\n",
       "      <td>D</td>\n",
       "      <td>D</td>\n",
       "      <td>0</td>\n",
       "      <td>No Deposit</td>\n",
       "      <td>9.0</td>\n",
       "      <td>NaN</td>\n",
       "      <td>0</td>\n",
       "      <td>Transient</td>\n",
       "      <td>0</td>\n",
       "      <td>1</td>\n",
       "    </tr>\n",
       "    <tr>\n",
       "      <th>1</th>\n",
       "      <td>91532</td>\n",
       "      <td>City Hotel</td>\n",
       "      <td>208</td>\n",
       "      <td>2017</td>\n",
       "      <td>April</td>\n",
       "      <td>13</td>\n",
       "      <td>1</td>\n",
       "      <td>4</td>\n",
       "      <td>10</td>\n",
       "      <td>2</td>\n",
       "      <td>...</td>\n",
       "      <td>A</td>\n",
       "      <td>A</td>\n",
       "      <td>0</td>\n",
       "      <td>No Deposit</td>\n",
       "      <td>9.0</td>\n",
       "      <td>NaN</td>\n",
       "      <td>0</td>\n",
       "      <td>Transient</td>\n",
       "      <td>0</td>\n",
       "      <td>1</td>\n",
       "    </tr>\n",
       "    <tr>\n",
       "      <th>2</th>\n",
       "      <td>91533</td>\n",
       "      <td>Resort Hotel</td>\n",
       "      <td>12</td>\n",
       "      <td>2017</td>\n",
       "      <td>April</td>\n",
       "      <td>13</td>\n",
       "      <td>1</td>\n",
       "      <td>2</td>\n",
       "      <td>5</td>\n",
       "      <td>2</td>\n",
       "      <td>...</td>\n",
       "      <td>A</td>\n",
       "      <td>A</td>\n",
       "      <td>0</td>\n",
       "      <td>No Deposit</td>\n",
       "      <td>40.0</td>\n",
       "      <td>NaN</td>\n",
       "      <td>0</td>\n",
       "      <td>Contract</td>\n",
       "      <td>0</td>\n",
       "      <td>1</td>\n",
       "    </tr>\n",
       "    <tr>\n",
       "      <th>3</th>\n",
       "      <td>91534</td>\n",
       "      <td>City Hotel</td>\n",
       "      <td>76</td>\n",
       "      <td>2017</td>\n",
       "      <td>April</td>\n",
       "      <td>13</td>\n",
       "      <td>1</td>\n",
       "      <td>2</td>\n",
       "      <td>5</td>\n",
       "      <td>3</td>\n",
       "      <td>...</td>\n",
       "      <td>D</td>\n",
       "      <td>D</td>\n",
       "      <td>0</td>\n",
       "      <td>No Deposit</td>\n",
       "      <td>9.0</td>\n",
       "      <td>NaN</td>\n",
       "      <td>0</td>\n",
       "      <td>Transient</td>\n",
       "      <td>0</td>\n",
       "      <td>0</td>\n",
       "    </tr>\n",
       "    <tr>\n",
       "      <th>4</th>\n",
       "      <td>91535</td>\n",
       "      <td>City Hotel</td>\n",
       "      <td>9</td>\n",
       "      <td>2017</td>\n",
       "      <td>April</td>\n",
       "      <td>13</td>\n",
       "      <td>1</td>\n",
       "      <td>2</td>\n",
       "      <td>4</td>\n",
       "      <td>2</td>\n",
       "      <td>...</td>\n",
       "      <td>F</td>\n",
       "      <td>F</td>\n",
       "      <td>0</td>\n",
       "      <td>No Deposit</td>\n",
       "      <td>9.0</td>\n",
       "      <td>NaN</td>\n",
       "      <td>0</td>\n",
       "      <td>Transient</td>\n",
       "      <td>0</td>\n",
       "      <td>0</td>\n",
       "    </tr>\n",
       "  </tbody>\n",
       "</table>\n",
       "<p>5 rows × 29 columns</p>\n",
       "</div>"
      ],
      "text/plain": [
       "      ID         hotel  lead_time  arrival_date_year arrival_date_month  \\\n",
       "0  91531    City Hotel         75               2017              April   \n",
       "1  91532    City Hotel        208               2017              April   \n",
       "2  91533  Resort Hotel         12               2017              April   \n",
       "3  91534    City Hotel         76               2017              April   \n",
       "4  91535    City Hotel          9               2017              April   \n",
       "\n",
       "   arrival_date_week_number  arrival_date_day_of_month  \\\n",
       "0                        13                          1   \n",
       "1                        13                          1   \n",
       "2                        13                          1   \n",
       "3                        13                          1   \n",
       "4                        13                          1   \n",
       "\n",
       "   stays_in_weekend_nights  stays_in_week_nights  adults  ...  \\\n",
       "0                        2                     5       2  ...   \n",
       "1                        4                    10       2  ...   \n",
       "2                        2                     5       2  ...   \n",
       "3                        2                     5       3  ...   \n",
       "4                        2                     4       2  ...   \n",
       "\n",
       "   reserved_room_type  assigned_room_type booking_changes deposit_type agent  \\\n",
       "0                   D                   D               0   No Deposit   9.0   \n",
       "1                   A                   A               0   No Deposit   9.0   \n",
       "2                   A                   A               0   No Deposit  40.0   \n",
       "3                   D                   D               0   No Deposit   9.0   \n",
       "4                   F                   F               0   No Deposit   9.0   \n",
       "\n",
       "  company  days_in_waiting_list  customer_type  required_car_parking_spaces  \\\n",
       "0     NaN                     0      Transient                            0   \n",
       "1     NaN                     0      Transient                            0   \n",
       "2     NaN                     0       Contract                            0   \n",
       "3     NaN                     0      Transient                            0   \n",
       "4     NaN                     0      Transient                            0   \n",
       "\n",
       "  total_of_special_requests  \n",
       "0                         1  \n",
       "1                         1  \n",
       "2                         1  \n",
       "3                         0  \n",
       "4                         0  \n",
       "\n",
       "[5 rows x 29 columns]"
      ]
     },
     "execution_count": 304,
     "metadata": {},
     "output_type": "execute_result"
    }
   ],
   "source": [
    "df_test = pd.read_csv(Config.test_path)\n",
    "df_test.head()"
   ]
  },
  {
   "cell_type": "code",
   "execution_count": 305,
   "metadata": {},
   "outputs": [
    {
     "data": {
      "text/plain": [
       "(27859, 29)"
      ]
     },
     "execution_count": 305,
     "metadata": {},
     "output_type": "execute_result"
    }
   ],
   "source": [
    "df_test.shape"
   ]
  },
  {
   "cell_type": "code",
   "execution_count": 306,
   "metadata": {},
   "outputs": [],
   "source": [
    "categories = df_test[sorted(list(set(nominal+ordinal) - {'adr', 'reservation_status', 'reservation_status_date', 'is_canceled', 'ID', 'index'}))].astype(str).to_numpy()\n",
    "cat = enc.transform(categories)"
   ]
  },
  {
   "cell_type": "code",
   "execution_count": 307,
   "metadata": {},
   "outputs": [
    {
     "data": {
      "text/plain": [
       "(27859, 941)"
      ]
     },
     "execution_count": 307,
     "metadata": {},
     "output_type": "execute_result"
    }
   ],
   "source": [
    "cat.shape"
   ]
  },
  {
   "cell_type": "code",
   "execution_count": 308,
   "metadata": {},
   "outputs": [],
   "source": [
    "num = df_test[sorted(list(set(df_test.columns) - set(nominal+ordinal) - {'adr', 'reservation_status', 'reservation_status_date', 'is_canceled', 'ID', 'index'}))].to_numpy()"
   ]
  },
  {
   "cell_type": "code",
   "execution_count": 309,
   "metadata": {},
   "outputs": [
    {
     "data": {
      "text/plain": [
       "(27859, 13)"
      ]
     },
     "execution_count": 309,
     "metadata": {},
     "output_type": "execute_result"
    }
   ],
   "source": [
    "num.shape"
   ]
  },
  {
   "cell_type": "code",
   "execution_count": 310,
   "metadata": {},
   "outputs": [],
   "source": [
    "tmp = np.concatenate((cat, num), axis=1)\n",
    "x_test = tmp.copy()"
   ]
  },
  {
   "cell_type": "code",
   "execution_count": 311,
   "metadata": {},
   "outputs": [
    {
     "name": "stdout",
     "output_type": "stream",
     "text": [
      "test: (27859, 954)\n"
     ]
    }
   ],
   "source": [
    "print('test:', x_test.shape)"
   ]
  },
  {
   "cell_type": "code",
   "execution_count": 312,
   "metadata": {},
   "outputs": [],
   "source": [
    "pred_adr = regr.predict(x_test)\n",
    "prob_res = clf.predict_proba(x_test)"
   ]
  },
  {
   "cell_type": "code",
   "execution_count": 313,
   "metadata": {},
   "outputs": [],
   "source": [
    "pred_res = 1- prob_res[:,0].copy()"
   ]
  },
  {
   "cell_type": "code",
   "execution_count": 314,
   "metadata": {},
   "outputs": [
    {
     "data": {
      "text/plain": [
       "array([0.3304512 , 0.45915854, 0.3264494 , ..., 0.2630936 , 0.0774318 ,\n",
       "       0.11267251], dtype=float32)"
      ]
     },
     "execution_count": 314,
     "metadata": {},
     "output_type": "execute_result"
    }
   ],
   "source": [
    "pred_res"
   ]
  },
  {
   "cell_type": "code",
   "execution_count": 315,
   "metadata": {},
   "outputs": [],
   "source": [
    "tmp = clf.predict(x_test)"
   ]
  },
  {
   "cell_type": "code",
   "execution_count": 340,
   "metadata": {},
   "outputs": [
    {
     "data": {
      "text/html": [
       "<div>\n",
       "<style scoped>\n",
       "    .dataframe tbody tr th:only-of-type {\n",
       "        vertical-align: middle;\n",
       "    }\n",
       "\n",
       "    .dataframe tbody tr th {\n",
       "        vertical-align: top;\n",
       "    }\n",
       "\n",
       "    .dataframe thead th {\n",
       "        text-align: right;\n",
       "    }\n",
       "</style>\n",
       "<table border=\"1\" class=\"dataframe\">\n",
       "  <thead>\n",
       "    <tr style=\"text-align: right;\">\n",
       "      <th></th>\n",
       "      <th>pred_adr</th>\n",
       "      <th>pred_is_canceled</th>\n",
       "      <th>pred_revenue</th>\n",
       "    </tr>\n",
       "  </thead>\n",
       "  <tbody>\n",
       "    <tr>\n",
       "      <th>0</th>\n",
       "      <td>106.176231</td>\n",
       "      <td>0.330451</td>\n",
       "      <td>497.631185</td>\n",
       "    </tr>\n",
       "    <tr>\n",
       "      <th>1</th>\n",
       "      <td>50.756371</td>\n",
       "      <td>0.459159</td>\n",
       "      <td>384.316094</td>\n",
       "    </tr>\n",
       "    <tr>\n",
       "      <th>2</th>\n",
       "      <td>72.290970</td>\n",
       "      <td>0.326449</td>\n",
       "      <td>340.841386</td>\n",
       "    </tr>\n",
       "    <tr>\n",
       "      <th>3</th>\n",
       "      <td>127.737000</td>\n",
       "      <td>0.736109</td>\n",
       "      <td>235.960549</td>\n",
       "    </tr>\n",
       "    <tr>\n",
       "      <th>4</th>\n",
       "      <td>192.197525</td>\n",
       "      <td>0.655807</td>\n",
       "      <td>396.917685</td>\n",
       "    </tr>\n",
       "  </tbody>\n",
       "</table>\n",
       "</div>"
      ],
      "text/plain": [
       "     pred_adr  pred_is_canceled  pred_revenue\n",
       "0  106.176231          0.330451    497.631185\n",
       "1   50.756371          0.459159    384.316094\n",
       "2   72.290970          0.326449    340.841386\n",
       "3  127.737000          0.736109    235.960549\n",
       "4  192.197525          0.655807    396.917685"
      ]
     },
     "execution_count": 340,
     "metadata": {},
     "output_type": "execute_result"
    }
   ],
   "source": [
    "new_df_test = df_test.copy().reset_index()\n",
    "new_df_test['pred_adr'] = pred_adr\n",
    "# new_df_test['pred_is_canceled'] = (tmp != 0).astype(float)\n",
    "new_df_test['pred_is_canceled'] = pred_res\n",
    "new_df_test['pred_revenue'] = new_df_test['pred_adr'] * np.sum(new_df_test[['stays_in_weekend_nights', 'stays_in_week_nights']], axis=1) * (1-new_df_test['pred_is_canceled'])\n",
    "new_df_test[['pred_adr', 'pred_is_canceled', 'pred_revenue']].head()"
   ]
  },
  {
   "cell_type": "code",
   "execution_count": 342,
   "metadata": {},
   "outputs": [
    {
     "data": {
      "text/html": [
       "<div>\n",
       "<style scoped>\n",
       "    .dataframe tbody tr th:only-of-type {\n",
       "        vertical-align: middle;\n",
       "    }\n",
       "\n",
       "    .dataframe tbody tr th {\n",
       "        vertical-align: top;\n",
       "    }\n",
       "\n",
       "    .dataframe thead th {\n",
       "        text-align: right;\n",
       "    }\n",
       "</style>\n",
       "<table border=\"1\" class=\"dataframe\">\n",
       "  <thead>\n",
       "    <tr style=\"text-align: right;\">\n",
       "      <th></th>\n",
       "      <th>pred_adr</th>\n",
       "      <th>pred_is_canceled</th>\n",
       "      <th>pred_revenue</th>\n",
       "    </tr>\n",
       "  </thead>\n",
       "  <tbody>\n",
       "    <tr>\n",
       "      <th>count</th>\n",
       "      <td>27859.000000</td>\n",
       "      <td>27859.000000</td>\n",
       "      <td>27859.000000</td>\n",
       "    </tr>\n",
       "    <tr>\n",
       "      <th>mean</th>\n",
       "      <td>100.431442</td>\n",
       "      <td>0.388902</td>\n",
       "      <td>218.055493</td>\n",
       "    </tr>\n",
       "    <tr>\n",
       "      <th>std</th>\n",
       "      <td>44.444550</td>\n",
       "      <td>0.296699</td>\n",
       "      <td>219.610459</td>\n",
       "    </tr>\n",
       "    <tr>\n",
       "      <th>min</th>\n",
       "      <td>-52.252293</td>\n",
       "      <td>0.035430</td>\n",
       "      <td>-736.467024</td>\n",
       "    </tr>\n",
       "    <tr>\n",
       "      <th>25%</th>\n",
       "      <td>73.499130</td>\n",
       "      <td>0.127105</td>\n",
       "      <td>80.061305</td>\n",
       "    </tr>\n",
       "    <tr>\n",
       "      <th>50%</th>\n",
       "      <td>96.364334</td>\n",
       "      <td>0.326151</td>\n",
       "      <td>161.462610</td>\n",
       "    </tr>\n",
       "    <tr>\n",
       "      <th>75%</th>\n",
       "      <td>123.372730</td>\n",
       "      <td>0.652852</td>\n",
       "      <td>287.201120</td>\n",
       "    </tr>\n",
       "    <tr>\n",
       "      <th>max</th>\n",
       "      <td>336.267792</td>\n",
       "      <td>0.979969</td>\n",
       "      <td>3381.900593</td>\n",
       "    </tr>\n",
       "  </tbody>\n",
       "</table>\n",
       "</div>"
      ],
      "text/plain": [
       "           pred_adr  pred_is_canceled  pred_revenue\n",
       "count  27859.000000      27859.000000  27859.000000\n",
       "mean     100.431442          0.388902    218.055493\n",
       "std       44.444550          0.296699    219.610459\n",
       "min      -52.252293          0.035430   -736.467024\n",
       "25%       73.499130          0.127105     80.061305\n",
       "50%       96.364334          0.326151    161.462610\n",
       "75%      123.372730          0.652852    287.201120\n",
       "max      336.267792          0.979969   3381.900593"
      ]
     },
     "execution_count": 342,
     "metadata": {},
     "output_type": "execute_result"
    }
   ],
   "source": [
    "new_df_test[['pred_adr', 'pred_is_canceled', 'pred_revenue']].describe()"
   ]
  },
  {
   "cell_type": "code",
   "execution_count": 318,
   "metadata": {},
   "outputs": [],
   "source": [
    "new_df_test = add_arrival_date(new_df_test)"
   ]
  },
  {
   "cell_type": "code",
   "execution_count": 319,
   "metadata": {},
   "outputs": [],
   "source": [
    "new_df_test_sum = new_df_test.groupby('arrival_date').sum()"
   ]
  },
  {
   "cell_type": "code",
   "execution_count": 320,
   "metadata": {},
   "outputs": [
    {
     "data": {
      "text/html": [
       "<div>\n",
       "<style scoped>\n",
       "    .dataframe tbody tr th:only-of-type {\n",
       "        vertical-align: middle;\n",
       "    }\n",
       "\n",
       "    .dataframe tbody tr th {\n",
       "        vertical-align: top;\n",
       "    }\n",
       "\n",
       "    .dataframe thead th {\n",
       "        text-align: right;\n",
       "    }\n",
       "</style>\n",
       "<table border=\"1\" class=\"dataframe\">\n",
       "  <thead>\n",
       "    <tr style=\"text-align: right;\">\n",
       "      <th></th>\n",
       "      <th>index</th>\n",
       "      <th>ID</th>\n",
       "      <th>lead_time</th>\n",
       "      <th>arrival_date_year</th>\n",
       "      <th>arrival_date_week_number</th>\n",
       "      <th>arrival_date_day_of_month</th>\n",
       "      <th>stays_in_weekend_nights</th>\n",
       "      <th>stays_in_week_nights</th>\n",
       "      <th>adults</th>\n",
       "      <th>children</th>\n",
       "      <th>...</th>\n",
       "      <th>previous_bookings_not_canceled</th>\n",
       "      <th>booking_changes</th>\n",
       "      <th>agent</th>\n",
       "      <th>company</th>\n",
       "      <th>days_in_waiting_list</th>\n",
       "      <th>required_car_parking_spaces</th>\n",
       "      <th>total_of_special_requests</th>\n",
       "      <th>pred_adr</th>\n",
       "      <th>pred_is_canceled</th>\n",
       "      <th>pred_revenue</th>\n",
       "    </tr>\n",
       "    <tr>\n",
       "      <th>arrival_date</th>\n",
       "      <th></th>\n",
       "      <th></th>\n",
       "      <th></th>\n",
       "      <th></th>\n",
       "      <th></th>\n",
       "      <th></th>\n",
       "      <th></th>\n",
       "      <th></th>\n",
       "      <th></th>\n",
       "      <th></th>\n",
       "      <th></th>\n",
       "      <th></th>\n",
       "      <th></th>\n",
       "      <th></th>\n",
       "      <th></th>\n",
       "      <th></th>\n",
       "      <th></th>\n",
       "      <th></th>\n",
       "      <th></th>\n",
       "      <th></th>\n",
       "      <th></th>\n",
       "    </tr>\n",
       "  </thead>\n",
       "  <tbody>\n",
       "    <tr>\n",
       "      <th>2017-04-01</th>\n",
       "      <td>8646</td>\n",
       "      <td>12090738</td>\n",
       "      <td>12575</td>\n",
       "      <td>266244</td>\n",
       "      <td>1716</td>\n",
       "      <td>132</td>\n",
       "      <td>225</td>\n",
       "      <td>299</td>\n",
       "      <td>273</td>\n",
       "      <td>20.0</td>\n",
       "      <td>...</td>\n",
       "      <td>7</td>\n",
       "      <td>25</td>\n",
       "      <td>15944.0</td>\n",
       "      <td>163.0</td>\n",
       "      <td>205</td>\n",
       "      <td>7</td>\n",
       "      <td>79</td>\n",
       "      <td>12571.656250</td>\n",
       "      <td>43.669472</td>\n",
       "      <td>30392.908932</td>\n",
       "    </tr>\n",
       "    <tr>\n",
       "      <th>2017-04-02</th>\n",
       "      <td>17232</td>\n",
       "      <td>8804208</td>\n",
       "      <td>7043</td>\n",
       "      <td>193632</td>\n",
       "      <td>1344</td>\n",
       "      <td>192</td>\n",
       "      <td>186</td>\n",
       "      <td>181</td>\n",
       "      <td>187</td>\n",
       "      <td>8.0</td>\n",
       "      <td>...</td>\n",
       "      <td>10</td>\n",
       "      <td>29</td>\n",
       "      <td>5736.0</td>\n",
       "      <td>301.0</td>\n",
       "      <td>63</td>\n",
       "      <td>5</td>\n",
       "      <td>112</td>\n",
       "      <td>9347.386719</td>\n",
       "      <td>29.957003</td>\n",
       "      <td>23326.407192</td>\n",
       "    </tr>\n",
       "    <tr>\n",
       "      <th>2017-04-03</th>\n",
       "      <td>79233</td>\n",
       "      <td>21222894</td>\n",
       "      <td>17786</td>\n",
       "      <td>465927</td>\n",
       "      <td>3234</td>\n",
       "      <td>693</td>\n",
       "      <td>251</td>\n",
       "      <td>513</td>\n",
       "      <td>407</td>\n",
       "      <td>19.0</td>\n",
       "      <td>...</td>\n",
       "      <td>19</td>\n",
       "      <td>51</td>\n",
       "      <td>10799.0</td>\n",
       "      <td>5482.0</td>\n",
       "      <td>211</td>\n",
       "      <td>9</td>\n",
       "      <td>120</td>\n",
       "      <td>19404.341797</td>\n",
       "      <td>92.718262</td>\n",
       "      <td>37271.302628</td>\n",
       "    </tr>\n",
       "    <tr>\n",
       "      <th>2017-04-04</th>\n",
       "      <td>65125</td>\n",
       "      <td>11506500</td>\n",
       "      <td>13068</td>\n",
       "      <td>252125</td>\n",
       "      <td>1750</td>\n",
       "      <td>500</td>\n",
       "      <td>26</td>\n",
       "      <td>355</td>\n",
       "      <td>239</td>\n",
       "      <td>19.0</td>\n",
       "      <td>...</td>\n",
       "      <td>31</td>\n",
       "      <td>39</td>\n",
       "      <td>7435.0</td>\n",
       "      <td>14441.0</td>\n",
       "      <td>32</td>\n",
       "      <td>7</td>\n",
       "      <td>63</td>\n",
       "      <td>10155.100586</td>\n",
       "      <td>66.475464</td>\n",
       "      <td>16610.248061</td>\n",
       "    </tr>\n",
       "    <tr>\n",
       "      <th>2017-04-05</th>\n",
       "      <td>178794</td>\n",
       "      <td>23244606</td>\n",
       "      <td>30182</td>\n",
       "      <td>508284</td>\n",
       "      <td>3528</td>\n",
       "      <td>1260</td>\n",
       "      <td>54</td>\n",
       "      <td>824</td>\n",
       "      <td>429</td>\n",
       "      <td>13.0</td>\n",
       "      <td>...</td>\n",
       "      <td>40</td>\n",
       "      <td>186</td>\n",
       "      <td>13759.0</td>\n",
       "      <td>25140.0</td>\n",
       "      <td>345</td>\n",
       "      <td>17</td>\n",
       "      <td>73</td>\n",
       "      <td>14248.525391</td>\n",
       "      <td>88.749786</td>\n",
       "      <td>29499.712056</td>\n",
       "    </tr>\n",
       "  </tbody>\n",
       "</table>\n",
       "<p>5 rows × 23 columns</p>\n",
       "</div>"
      ],
      "text/plain": [
       "               index        ID  lead_time  arrival_date_year  \\\n",
       "arrival_date                                                   \n",
       "2017-04-01      8646  12090738      12575             266244   \n",
       "2017-04-02     17232   8804208       7043             193632   \n",
       "2017-04-03     79233  21222894      17786             465927   \n",
       "2017-04-04     65125  11506500      13068             252125   \n",
       "2017-04-05    178794  23244606      30182             508284   \n",
       "\n",
       "              arrival_date_week_number  arrival_date_day_of_month  \\\n",
       "arrival_date                                                        \n",
       "2017-04-01                        1716                        132   \n",
       "2017-04-02                        1344                        192   \n",
       "2017-04-03                        3234                        693   \n",
       "2017-04-04                        1750                        500   \n",
       "2017-04-05                        3528                       1260   \n",
       "\n",
       "              stays_in_weekend_nights  stays_in_week_nights  adults  children  \\\n",
       "arrival_date                                                                    \n",
       "2017-04-01                        225                   299     273      20.0   \n",
       "2017-04-02                        186                   181     187       8.0   \n",
       "2017-04-03                        251                   513     407      19.0   \n",
       "2017-04-04                         26                   355     239      19.0   \n",
       "2017-04-05                         54                   824     429      13.0   \n",
       "\n",
       "              ...  previous_bookings_not_canceled  booking_changes    agent  \\\n",
       "arrival_date  ...                                                             \n",
       "2017-04-01    ...                               7               25  15944.0   \n",
       "2017-04-02    ...                              10               29   5736.0   \n",
       "2017-04-03    ...                              19               51  10799.0   \n",
       "2017-04-04    ...                              31               39   7435.0   \n",
       "2017-04-05    ...                              40              186  13759.0   \n",
       "\n",
       "              company  days_in_waiting_list  required_car_parking_spaces  \\\n",
       "arrival_date                                                               \n",
       "2017-04-01      163.0                   205                            7   \n",
       "2017-04-02      301.0                    63                            5   \n",
       "2017-04-03     5482.0                   211                            9   \n",
       "2017-04-04    14441.0                    32                            7   \n",
       "2017-04-05    25140.0                   345                           17   \n",
       "\n",
       "              total_of_special_requests      pred_adr  pred_is_canceled  \\\n",
       "arrival_date                                                              \n",
       "2017-04-01                           79  12571.656250         43.669472   \n",
       "2017-04-02                          112   9347.386719         29.957003   \n",
       "2017-04-03                          120  19404.341797         92.718262   \n",
       "2017-04-04                           63  10155.100586         66.475464   \n",
       "2017-04-05                           73  14248.525391         88.749786   \n",
       "\n",
       "              pred_revenue  \n",
       "arrival_date                \n",
       "2017-04-01    30392.908932  \n",
       "2017-04-02    23326.407192  \n",
       "2017-04-03    37271.302628  \n",
       "2017-04-04    16610.248061  \n",
       "2017-04-05    29499.712056  \n",
       "\n",
       "[5 rows x 23 columns]"
      ]
     },
     "execution_count": 320,
     "metadata": {},
     "output_type": "execute_result"
    }
   ],
   "source": [
    "new_df_test_sum.head()"
   ]
  },
  {
   "cell_type": "code",
   "execution_count": 338,
   "metadata": {},
   "outputs": [
    {
     "data": {
      "text/plain": [
       "count      153.000000\n",
       "mean     39704.627375\n",
       "std      13162.305160\n",
       "min      14958.994418\n",
       "25%      30342.657231\n",
       "50%      37271.302628\n",
       "75%      46161.786468\n",
       "max      86188.207975\n",
       "Name: pred_revenue, dtype: float64"
      ]
     },
     "execution_count": 338,
     "metadata": {},
     "output_type": "execute_result"
    }
   ],
   "source": [
    "new_df_test_sum['pred_revenue'].describe()"
   ]
  },
  {
   "cell_type": "code",
   "execution_count": 337,
   "metadata": {},
   "outputs": [
    {
     "data": {
      "image/png": "[encoded data removed]",
      "text/plain": [
       "<Figure size 432x288 with 1 Axes>"
      ]
     },
     "metadata": {
      "needs_background": "light"
     },
     "output_type": "display_data"
    }
   ],
   "source": [
    "new_df_test_sum['pred_revenue'].hist()\n",
    "plt.show()"
   ]
  },
  {
   "cell_type": "code",
   "execution_count": 328,
   "metadata": {},
   "outputs": [],
   "source": [
    "test_index = new_df_test_sum.index"
   ]
  },
  {
   "cell_type": "code",
   "execution_count": 344,
   "metadata": {},
   "outputs": [],
   "source": [
    "label = np.floor(new_df_test_sum['pred_revenue'].to_numpy() / 10000)"
   ]
  },
  {
   "cell_type": "code",
   "execution_count": 346,
   "metadata": {},
   "outputs": [],
   "source": [
    "from HTML.save import save_prediction\n",
    "save_prediction('../outputs//xgboost2.csv', test_index, label)"
   ]
  },
  {
   "cell_type": "code",
   "execution_count": null,
   "metadata": {},
   "outputs": [],
   "source": []
  }
 ],
 "metadata": {
  "kernelspec": {
   "display_name": "Python 3",
   "language": "python",
   "name": "python3"
  },
  "language_info": {
   "codemirror_mode": {
    "name": "ipython",
    "version": 3
   },
   "file_extension": ".py",
   "mimetype": "text/x-python",
   "name": "python",
   "nbconvert_exporter": "python",
   "pygments_lexer": "ipython3",
   "version": "3.7.6"
  }
 },
 "nbformat": 4,
 "nbformat_minor": 4
}
