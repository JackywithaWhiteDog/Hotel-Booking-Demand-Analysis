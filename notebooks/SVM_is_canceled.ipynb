{
 "cells": [
  {
   "cell_type": "code",
   "execution_count": null,
   "metadata": {},
   "outputs": [],
   "source": [
    "from HTML import config as Config\n",
    "from HTML.dataset import *\n",
    "from HTML.config import ratio, nominal, ordinal, meaningless\n",
    "import pandas as pd\n",
    "import numpy as np\n",
    "import matplotlib.pyplot as plt\n",
    "from HTML import preprocessing as ps\n",
    "%matplotlib inline\n",
    "data = pd.read_csv(Config.train_path)\n",
    "data = ps.preprocessing(data)\n",
    "data.head()\n"
   ]
  },
  {
   "cell_type": "code",
   "execution_count": null,
   "metadata": {},
   "outputs": [],
   "source": [
    "data = data.drop(['reservation_status','reservation_status_date', 'adr'], axis=1)\n",
    "data = pd.concat([data, \n",
    "                 pd.get_dummies(data['hotel'], drop_first=True), \n",
    "                 pd.get_dummies(data['arrival_date_month'], drop_first=True), \n",
    "                 pd.get_dummies(data['market_segment'], drop_first=True),\n",
    "                 pd.get_dummies(data['distribution_channel'], drop_first=True),\n",
    "                 pd.get_dummies(data['customer_type'], drop_first=True), \n",
    "                 pd.get_dummies(data['deposit_type'], drop_first=True),\n",
    "                 pd.get_dummies(data['meal'], drop_first=True),\n",
    "                 pd.get_dummies(data['country'], drop_first=True),\n",
    "                 pd.get_dummies(data['reserved_room_type'], drop_first=True),\n",
    "                 pd.get_dummies(data['assigned_room_type'], drop_first = True)\n",
    "                 ], axis=1)\n",
    "data = data.drop(['assigned_room_type', 'reserved_room_type', 'meal', 'country', 'hotel','arrival_date_month','market_segment','distribution_channel','customer_type', 'deposit_type'], axis=1)\n",
    "data = data.drop(['ID', 'agent', 'company'], axis=1)\n",
    "data.head()"
   ]
  },
  {
   "cell_type": "code",
   "execution_count": null,
   "metadata": {},
   "outputs": [],
   "source": [
    "data.info()"
   ]
  },
  {
   "cell_type": "code",
   "execution_count": null,
   "metadata": {},
   "outputs": [],
   "source": [
    "from sklearn.model_selection import cross_val_score\n",
    "def CreateBalancedSampleWeights(y_train, largest_class_weight_coef):\n",
    "    classes = np.unique(y_train)\n",
    "    classes.sort()\n",
    "    class_samples = np.bincount(y_train)\n",
    "    total_samples = class_samples.sum()\n",
    "    n_classes = len(class_samples)\n",
    "    weights = total_samples / (n_classes * class_samples * 1.0)\n",
    "    class_weight_dict = {key : value for (key, value) in zip(classes, weights)}\n",
    "    class_weight_dict[classes[1]] = class_weight_dict[classes[1]] * largest_class_weight_coef\n",
    "    sample_weights = [class_weight_dict[y] for y in y_train]\n",
    "\n",
    "    return sample_weights\n",
    "\n"
   ]
  },
  {
   "cell_type": "code",
   "execution_count": null,
   "metadata": {},
   "outputs": [],
   "source": [
    "# Fit and train\n",
    "s = []\n",
    "x = data[set(data.columns) - {'is_canceled'}]\n",
    "y = data['is_canceled']\n",
    "from sklearn.svm import SVC\n",
    "clf = SVC(kernel = 'rbf', random_state=0)\n",
    "scores = cross_val_score(clf, x, y, cv=5, scoring='f1', verbose=1, n_jobs=2)\n",
    "s.append(scores)\n",
    "print(np.mean(scores))\n",
    "# Predict\n",
    "# y_pred = classifier.predict(X_test)\n",
    "\n",
    "# Computing accuracy\n",
    "# model_accuracy_results['RandomForest'] = model_accuracy(y_test, y_pred)"
   ]
  },
  {
   "cell_type": "code",
   "execution_count": null,
   "metadata": {},
   "outputs": [],
   "source": [
    "plt.plot([1,5,10,50,100,500], np.mean(np.array(s),axis=1))"
   ]
  }
 ],
 "metadata": {
  "kernelspec": {
   "display_name": "Python 3.8.3 64-bit",
   "language": "python",
   "name": "python38364bit155950790c46412cba75b57aac52d72f"
  }
 },
 "nbformat": 4,
 "nbformat_minor": 4
}
